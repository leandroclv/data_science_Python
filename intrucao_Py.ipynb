{
 "cells": [
  {
   "cell_type": "code",
   "execution_count": null,
   "id": "8bcefab7",
   "metadata": {},
   "outputs": [],
   "source": [
    "#Numbers"
   ]
  },
  {
   "cell_type": "code",
   "execution_count": null,
   "id": "ec5e7130",
   "metadata": {},
   "outputs": [
    {
     "data": {
      "text/plain": [
       "3"
      ]
     },
     "execution_count": 2,
     "metadata": {},
     "output_type": "execute_result"
    }
   ],
   "source": [
    "#soma\n",
    "2 + 1"
   ]
  },
  {
   "cell_type": "code",
   "execution_count": null,
   "id": "912bf646",
   "metadata": {},
   "outputs": [
    {
     "data": {
      "text/plain": [
       "1"
      ]
     },
     "execution_count": 3,
     "metadata": {},
     "output_type": "execute_result"
    }
   ],
   "source": [
    "#Subtração\n",
    "2 - 1"
   ]
  },
  {
   "cell_type": "code",
   "execution_count": null,
   "id": "a4194c74",
   "metadata": {},
   "outputs": [
    {
     "data": {
      "text/plain": [
       "4"
      ]
     },
     "execution_count": 4,
     "metadata": {},
     "output_type": "execute_result"
    }
   ],
   "source": [
    "#Multiplicação\n",
    "2 * 2"
   ]
  },
  {
   "cell_type": "code",
   "execution_count": null,
   "id": "317e501d",
   "metadata": {},
   "outputs": [
    {
     "data": {
      "text/plain": [
       "1.0"
      ]
     },
     "execution_count": 5,
     "metadata": {},
     "output_type": "execute_result"
    }
   ],
   "source": [
    "#Divisão\n",
    "2 / 2"
   ]
  },
  {
   "cell_type": "code",
   "execution_count": null,
   "id": "f8fb9687",
   "metadata": {},
   "outputs": [
    {
     "data": {
      "text/plain": [
       "9"
      ]
     },
     "execution_count": 6,
     "metadata": {},
     "output_type": "execute_result"
    }
   ],
   "source": [
    "#Potenciação\n",
    "3 ** 2"
   ]
  },
  {
   "cell_type": "code",
   "execution_count": null,
   "id": "8fa1d700",
   "metadata": {},
   "outputs": [
    {
     "data": {
      "text/plain": [
       "2.0"
      ]
     },
     "execution_count": 7,
     "metadata": {},
     "output_type": "execute_result"
    }
   ],
   "source": [
    "#Raiz Quadrada\n",
    "4 ** (1/2)"
   ]
  },
  {
   "cell_type": "code",
   "execution_count": null,
   "id": "d396976a",
   "metadata": {},
   "outputs": [
    {
     "data": {
      "text/plain": [
       "12"
      ]
     },
     "execution_count": 8,
     "metadata": {},
     "output_type": "execute_result"
    }
   ],
   "source": [
    "2 + 2 + 4 * 2"
   ]
  },
  {
   "cell_type": "code",
   "execution_count": null,
   "id": "a015907b",
   "metadata": {},
   "outputs": [
    {
     "data": {
      "text/plain": [
       "12"
      ]
     },
     "execution_count": 9,
     "metadata": {},
     "output_type": "execute_result"
    }
   ],
   "source": [
    "(2 + 2) + 4 * 2"
   ]
  },
  {
   "cell_type": "markdown",
   "id": "1a7f94d1",
   "metadata": {},
   "source": [
    "##Variável"
   ]
  },
  {
   "cell_type": "markdown",
   "id": "c89856d1",
   "metadata": {},
   "source": [
    "##1 - Regras para nomes  de variáveis\n",
    "##2 - Deve sempre iniciar com uma letra ou o caractere underline (_)\n",
    "##3 - Pode conter números\n",
    "##4 - simbolos proibidos (\",:</\\|>{}@$%^&+!)\n",
    "##5 - Nunca utilizar palavras reservadas "
   ]
  },
  {
   "cell_type": "code",
   "execution_count": null,
   "id": "6524af60",
   "metadata": {},
   "outputs": [],
   "source": [
    "a = 5"
   ]
  },
  {
   "cell_type": "code",
   "execution_count": null,
   "id": "ab2010ac",
   "metadata": {},
   "outputs": [],
   "source": [
    "variavel_1 = 1"
   ]
  },
  {
   "cell_type": "code",
   "execution_count": null,
   "id": "012e1e8c",
   "metadata": {},
   "outputs": [
    {
     "data": {
      "text/plain": [
       "5"
      ]
     },
     "execution_count": 12,
     "metadata": {},
     "output_type": "execute_result"
    }
   ],
   "source": [
    "a"
   ]
  },
  {
   "cell_type": "code",
   "execution_count": null,
   "id": "c5278537",
   "metadata": {},
   "outputs": [
    {
     "data": {
      "text/plain": [
       "1"
      ]
     },
     "execution_count": 13,
     "metadata": {},
     "output_type": "execute_result"
    }
   ],
   "source": [
    "variavel_1"
   ]
  },
  {
   "cell_type": "code",
   "execution_count": null,
   "id": "d92c495e",
   "metadata": {},
   "outputs": [
    {
     "data": {
      "text/plain": [
       "6"
      ]
     },
     "execution_count": 14,
     "metadata": {},
     "output_type": "execute_result"
    }
   ],
   "source": [
    "variavel_1 + a"
   ]
  },
  {
   "cell_type": "code",
   "execution_count": null,
   "id": "af596c3f",
   "metadata": {},
   "outputs": [],
   "source": [
    "terceira_variavel = variavel_1 + a"
   ]
  },
  {
   "cell_type": "code",
   "execution_count": null,
   "id": "1b66917e",
   "metadata": {},
   "outputs": [
    {
     "data": {
      "text/plain": [
       "6"
      ]
     },
     "execution_count": 16,
     "metadata": {},
     "output_type": "execute_result"
    }
   ],
   "source": [
    "terceira_variavel"
   ]
  },
  {
   "cell_type": "code",
   "execution_count": null,
   "id": "f544451d",
   "metadata": {},
   "outputs": [],
   "source": [
    "a = a ** 2"
   ]
  },
  {
   "cell_type": "code",
   "execution_count": null,
   "id": "f14f92d1",
   "metadata": {},
   "outputs": [
    {
     "data": {
      "text/plain": [
       "25"
      ]
     },
     "execution_count": 18,
     "metadata": {},
     "output_type": "execute_result"
    }
   ],
   "source": [
    "a"
   ]
  },
  {
   "cell_type": "markdown",
   "id": "a111f948",
   "metadata": {},
   "source": [
    "##Strings e indexação"
   ]
  },
  {
   "cell_type": "code",
   "execution_count": null,
   "id": "697130b8",
   "metadata": {},
   "outputs": [],
   "source": [
    "minha_string = 'Hello'"
   ]
  },
  {
   "cell_type": "code",
   "execution_count": null,
   "id": "4ff02329",
   "metadata": {},
   "outputs": [
    {
     "data": {
      "text/plain": [
       "'Hello'"
      ]
     },
     "execution_count": 20,
     "metadata": {},
     "output_type": "execute_result"
    }
   ],
   "source": [
    "minha_string"
   ]
  },
  {
   "cell_type": "code",
   "execution_count": null,
   "id": "1dc821ba",
   "metadata": {},
   "outputs": [],
   "source": [
    "minha_string2 = 'Isto é uma string'"
   ]
  },
  {
   "cell_type": "code",
   "execution_count": null,
   "id": "e93cf995",
   "metadata": {},
   "outputs": [
    {
     "data": {
      "text/plain": [
       "'Isto é uma string'"
      ]
     },
     "execution_count": 22,
     "metadata": {},
     "output_type": "execute_result"
    }
   ],
   "source": [
    "minha_string2"
   ]
  },
  {
   "cell_type": "code",
   "execution_count": null,
   "id": "7a17f195",
   "metadata": {},
   "outputs": [],
   "source": [
    "minha_string3 = 'Isto é uma \"aspas\" string'"
   ]
  },
  {
   "cell_type": "code",
   "execution_count": null,
   "id": "3debfa6a",
   "metadata": {},
   "outputs": [
    {
     "data": {
      "text/plain": [
       "'Isto é uma \"aspas\" string'"
      ]
     },
     "execution_count": 24,
     "metadata": {},
     "output_type": "execute_result"
    }
   ],
   "source": [
    "minha_string3"
   ]
  },
  {
   "cell_type": "code",
   "execution_count": null,
   "id": "591a5693",
   "metadata": {},
   "outputs": [
    {
     "name": "stdout",
     "output_type": "stream",
     "text": [
      "Isto é uma \"aspas\" string\n"
     ]
    }
   ],
   "source": [
    "#Mostra o que existe na variável\n",
    "print(minha_string3)"
   ]
  },
  {
   "cell_type": "code",
   "execution_count": null,
   "id": "0ac727e7",
   "metadata": {},
   "outputs": [
    {
     "data": {
      "text/plain": [
       "17"
      ]
     },
     "execution_count": 26,
     "metadata": {},
     "output_type": "execute_result"
    }
   ],
   "source": [
    "#Contagem de caracteres\n",
    "len(minha_string2)"
   ]
  },
  {
   "cell_type": "code",
   "execution_count": null,
   "id": "b53b289e",
   "metadata": {},
   "outputs": [
    {
     "data": {
      "text/plain": [
       "'Isto é uma stringIsto é uma \"aspas\" string'"
      ]
     },
     "execution_count": 27,
     "metadata": {},
     "output_type": "execute_result"
    }
   ],
   "source": [
    "#Concatenação de string\n",
    "minha_string2 + minha_string3 "
   ]
  },
  {
   "cell_type": "code",
   "execution_count": null,
   "id": "a5a7d7a9",
   "metadata": {},
   "outputs": [
    {
     "data": {
      "text/plain": [
       "'Isto é uma string e Isto é uma \"aspas\" string'"
      ]
     },
     "execution_count": 28,
     "metadata": {},
     "output_type": "execute_result"
    }
   ],
   "source": [
    "minha_string2 + ' e ' + minha_string3"
   ]
  },
  {
   "cell_type": "code",
   "execution_count": null,
   "id": "e21f3b2c",
   "metadata": {},
   "outputs": [
    {
     "data": {
      "text/plain": [
       "'t'"
      ]
     },
     "execution_count": 29,
     "metadata": {},
     "output_type": "execute_result"
    }
   ],
   "source": [
    "#Index\n",
    "minha_string2[2]"
   ]
  },
  {
   "cell_type": "code",
   "execution_count": null,
   "id": "07a9e7c6",
   "metadata": {},
   "outputs": [
    {
     "data": {
      "text/plain": [
       "'ello'"
      ]
     },
     "execution_count": 30,
     "metadata": {},
     "output_type": "execute_result"
    }
   ],
   "source": [
    "minha_string[1:]"
   ]
  },
  {
   "cell_type": "code",
   "execution_count": null,
   "id": "274c420d",
   "metadata": {},
   "outputs": [
    {
     "data": {
      "text/plain": [
       "'olleH'"
      ]
     },
     "execution_count": 31,
     "metadata": {},
     "output_type": "execute_result"
    }
   ],
   "source": [
    "minha_string[::-1]"
   ]
  },
  {
   "cell_type": "code",
   "execution_count": null,
   "id": "f5fb09d6",
   "metadata": {},
   "outputs": [
    {
     "data": {
      "text/plain": [
       "'It  m aps tig'"
      ]
     },
     "execution_count": 32,
     "metadata": {},
     "output_type": "execute_result"
    }
   ],
   "source": [
    "minha_string3[::2]"
   ]
  },
  {
   "cell_type": "code",
   "execution_count": null,
   "id": "8c2346c1",
   "metadata": {},
   "outputs": [
    {
     "data": {
      "text/plain": [
       "'aaaaaaaaaa'"
      ]
     },
     "execution_count": 33,
     "metadata": {},
     "output_type": "execute_result"
    }
   ],
   "source": [
    "'a' * 10"
   ]
  },
  {
   "cell_type": "code",
   "execution_count": null,
   "id": "e9033975",
   "metadata": {},
   "outputs": [
    {
     "data": {
      "text/plain": [
       "str"
      ]
     },
     "execution_count": 34,
     "metadata": {},
     "output_type": "execute_result"
    }
   ],
   "source": [
    "type('a')"
   ]
  },
  {
   "cell_type": "code",
   "execution_count": null,
   "id": "27818d29",
   "metadata": {},
   "outputs": [
    {
     "data": {
      "text/plain": [
       "['__add__',\n",
       " '__class__',\n",
       " '__contains__',\n",
       " '__delattr__',\n",
       " '__dir__',\n",
       " '__doc__',\n",
       " '__eq__',\n",
       " '__format__',\n",
       " '__ge__',\n",
       " '__getattribute__',\n",
       " '__getitem__',\n",
       " '__getnewargs__',\n",
       " '__gt__',\n",
       " '__hash__',\n",
       " '__init__',\n",
       " '__init_subclass__',\n",
       " '__iter__',\n",
       " '__le__',\n",
       " '__len__',\n",
       " '__lt__',\n",
       " '__mod__',\n",
       " '__mul__',\n",
       " '__ne__',\n",
       " '__new__',\n",
       " '__reduce__',\n",
       " '__reduce_ex__',\n",
       " '__repr__',\n",
       " '__rmod__',\n",
       " '__rmul__',\n",
       " '__setattr__',\n",
       " '__sizeof__',\n",
       " '__str__',\n",
       " '__subclasshook__',\n",
       " 'capitalize',\n",
       " 'casefold',\n",
       " 'center',\n",
       " 'count',\n",
       " 'encode',\n",
       " 'endswith',\n",
       " 'expandtabs',\n",
       " 'find',\n",
       " 'format',\n",
       " 'format_map',\n",
       " 'index',\n",
       " 'isalnum',\n",
       " 'isalpha',\n",
       " 'isdecimal',\n",
       " 'isdigit',\n",
       " 'isidentifier',\n",
       " 'islower',\n",
       " 'isnumeric',\n",
       " 'isprintable',\n",
       " 'isspace',\n",
       " 'istitle',\n",
       " 'isupper',\n",
       " 'join',\n",
       " 'ljust',\n",
       " 'lower',\n",
       " 'lstrip',\n",
       " 'maketrans',\n",
       " 'partition',\n",
       " 'replace',\n",
       " 'rfind',\n",
       " 'rindex',\n",
       " 'rjust',\n",
       " 'rpartition',\n",
       " 'rsplit',\n",
       " 'rstrip',\n",
       " 'split',\n",
       " 'splitlines',\n",
       " 'startswith',\n",
       " 'strip',\n",
       " 'swapcase',\n",
       " 'title',\n",
       " 'translate',\n",
       " 'upper',\n",
       " 'zfill']"
      ]
     },
     "execution_count": 35,
     "metadata": {},
     "output_type": "execute_result"
    }
   ],
   "source": [
    "dir('Hello')"
   ]
  },
  {
   "cell_type": "code",
   "execution_count": null,
   "id": "6dd1e532",
   "metadata": {},
   "outputs": [
    {
     "data": {
      "text/plain": [
       "'hello'"
      ]
     },
     "execution_count": 36,
     "metadata": {},
     "output_type": "execute_result"
    }
   ],
   "source": [
    "'Hello'.lower()"
   ]
  },
  {
   "cell_type": "code",
   "execution_count": null,
   "id": "c35409f2",
   "metadata": {},
   "outputs": [
    {
     "data": {
      "text/plain": [
       "'HELLO'"
      ]
     },
     "execution_count": 37,
     "metadata": {},
     "output_type": "execute_result"
    }
   ],
   "source": [
    "'hello'.upper()"
   ]
  },
  {
   "cell_type": "code",
   "execution_count": null,
   "id": "580ab02f",
   "metadata": {},
   "outputs": [
    {
     "data": {
      "text/plain": [
       "['hello', 'Leandro']"
      ]
     },
     "execution_count": 38,
     "metadata": {},
     "output_type": "execute_result"
    }
   ],
   "source": [
    "'hello Leandro'.split()"
   ]
  },
  {
   "cell_type": "code",
   "execution_count": null,
   "id": "7fc606ad",
   "metadata": {},
   "outputs": [
    {
     "data": {
      "text/plain": [
       "['Le', 'ndro']"
      ]
     },
     "execution_count": 39,
     "metadata": {},
     "output_type": "execute_result"
    }
   ],
   "source": [
    "'Leandro'.split('a')"
   ]
  },
  {
   "cell_type": "code",
   "execution_count": null,
   "id": "bd5d7a27",
   "metadata": {},
   "outputs": [
    {
     "data": {
      "text/plain": [
       "'Idade da pessoa é: 10'"
      ]
     },
     "execution_count": 40,
     "metadata": {},
     "output_type": "execute_result"
    }
   ],
   "source": [
    "idade = 10\n",
    "f'Idade da pessoa é: {idade}'"
   ]
  },
  {
   "cell_type": "markdown",
   "id": "5988ff88",
   "metadata": {},
   "source": [
    "##Listas"
   ]
  },
  {
   "cell_type": "code",
   "execution_count": null,
   "id": "a47a552c",
   "metadata": {},
   "outputs": [],
   "source": [
    "minh_lista = [1,2,3]"
   ]
  },
  {
   "cell_type": "code",
   "execution_count": null,
   "id": "bd654278",
   "metadata": {},
   "outputs": [
    {
     "data": {
      "text/plain": [
       "[1, 2, 3]"
      ]
     },
     "execution_count": 42,
     "metadata": {},
     "output_type": "execute_result"
    }
   ],
   "source": [
    "minh_lista"
   ]
  },
  {
   "cell_type": "code",
   "execution_count": null,
   "id": "4d9d4ebc",
   "metadata": {},
   "outputs": [
    {
     "data": {
      "text/plain": [
       "list"
      ]
     },
     "execution_count": 43,
     "metadata": {},
     "output_type": "execute_result"
    }
   ],
   "source": [
    "type(minh_lista)"
   ]
  },
  {
   "cell_type": "code",
   "execution_count": null,
   "id": "5784b6b0",
   "metadata": {},
   "outputs": [
    {
     "data": {
      "text/plain": [
       "1"
      ]
     },
     "execution_count": 44,
     "metadata": {},
     "output_type": "execute_result"
    }
   ],
   "source": [
    "minh_lista[0]"
   ]
  },
  {
   "cell_type": "code",
   "execution_count": null,
   "id": "22a01e2a",
   "metadata": {},
   "outputs": [
    {
     "data": {
      "text/plain": [
       "3"
      ]
     },
     "execution_count": 45,
     "metadata": {},
     "output_type": "execute_result"
    }
   ],
   "source": [
    "minh_lista[-1]"
   ]
  },
  {
   "cell_type": "code",
   "execution_count": null,
   "id": "aa754b81",
   "metadata": {},
   "outputs": [
    {
     "data": {
      "text/plain": [
       "[2]"
      ]
     },
     "execution_count": 46,
     "metadata": {},
     "output_type": "execute_result"
    }
   ],
   "source": [
    "minh_lista[1:-1]"
   ]
  },
  {
   "cell_type": "code",
   "execution_count": null,
   "id": "e9fed6cf",
   "metadata": {},
   "outputs": [],
   "source": [
    "minh_lista2 = [1,2,'Hello', [1,2,3]]"
   ]
  },
  {
   "cell_type": "code",
   "execution_count": null,
   "id": "85251a35",
   "metadata": {},
   "outputs": [
    {
     "data": {
      "text/plain": [
       "[1, 2, 3]"
      ]
     },
     "execution_count": 48,
     "metadata": {},
     "output_type": "execute_result"
    }
   ],
   "source": [
    "minh_lista2[3]"
   ]
  },
  {
   "cell_type": "code",
   "execution_count": null,
   "id": "9ec0c660",
   "metadata": {},
   "outputs": [
    {
     "data": {
      "text/plain": [
       "[2, 3]"
      ]
     },
     "execution_count": 49,
     "metadata": {},
     "output_type": "execute_result"
    }
   ],
   "source": [
    "minh_lista2[3][1:]"
   ]
  },
  {
   "cell_type": "code",
   "execution_count": null,
   "id": "a506d11c",
   "metadata": {},
   "outputs": [
    {
     "data": {
      "text/plain": [
       "'HELLO'"
      ]
     },
     "execution_count": 50,
     "metadata": {},
     "output_type": "execute_result"
    }
   ],
   "source": [
    "minh_lista2[2].upper()"
   ]
  },
  {
   "cell_type": "code",
   "execution_count": null,
   "id": "a8a91a36",
   "metadata": {},
   "outputs": [
    {
     "data": {
      "text/plain": [
       "[1, 2, 'Hello', [1, 2, 3], 3]"
      ]
     },
     "execution_count": 51,
     "metadata": {},
     "output_type": "execute_result"
    }
   ],
   "source": [
    "minh_lista2 + [3]"
   ]
  },
  {
   "cell_type": "code",
   "execution_count": null,
   "id": "23af4565",
   "metadata": {},
   "outputs": [
    {
     "data": {
      "text/plain": [
       "[1, 2, 'Hello', [1, 2, 3], 1, 2, 'Hello', [1, 2, 3]]"
      ]
     },
     "execution_count": 52,
     "metadata": {},
     "output_type": "execute_result"
    }
   ],
   "source": [
    "minh_lista2 * 2"
   ]
  },
  {
   "cell_type": "code",
   "execution_count": null,
   "id": "c3f62f0b",
   "metadata": {},
   "outputs": [],
   "source": [
    "#Métodos básicos de listas"
   ]
  },
  {
   "cell_type": "code",
   "execution_count": null,
   "id": "c49587b2",
   "metadata": {},
   "outputs": [],
   "source": [
    "l = [1,2,3]"
   ]
  },
  {
   "cell_type": "code",
   "execution_count": null,
   "id": "eac04e6f",
   "metadata": {},
   "outputs": [],
   "source": [
    "l.append('4')"
   ]
  },
  {
   "cell_type": "code",
   "execution_count": null,
   "id": "92a34e04",
   "metadata": {},
   "outputs": [
    {
     "data": {
      "text/plain": [
       "[1, 2, 3, '4']"
      ]
     },
     "execution_count": 56,
     "metadata": {},
     "output_type": "execute_result"
    }
   ],
   "source": [
    "l"
   ]
  },
  {
   "cell_type": "code",
   "execution_count": null,
   "id": "9b01cf05",
   "metadata": {},
   "outputs": [],
   "source": [
    "l.append(4)"
   ]
  },
  {
   "cell_type": "code",
   "execution_count": null,
   "id": "8dc67ec2",
   "metadata": {},
   "outputs": [
    {
     "data": {
      "text/plain": [
       "[1, 2, 3, '4', 4]"
      ]
     },
     "execution_count": 58,
     "metadata": {},
     "output_type": "execute_result"
    }
   ],
   "source": [
    "l"
   ]
  },
  {
   "cell_type": "code",
   "execution_count": null,
   "id": "0f402a66",
   "metadata": {},
   "outputs": [
    {
     "data": {
      "text/plain": [
       "4"
      ]
     },
     "execution_count": 59,
     "metadata": {},
     "output_type": "execute_result"
    }
   ],
   "source": [
    "l.pop() #Retira o último elemento e retorna ele"
   ]
  },
  {
   "cell_type": "code",
   "execution_count": null,
   "id": "8a6e3d55",
   "metadata": {},
   "outputs": [
    {
     "data": {
      "text/plain": [
       "[1, 2, 3, '4']"
      ]
     },
     "execution_count": 60,
     "metadata": {},
     "output_type": "execute_result"
    }
   ],
   "source": [
    "l"
   ]
  },
  {
   "cell_type": "code",
   "execution_count": null,
   "id": "13ffe61d",
   "metadata": {},
   "outputs": [],
   "source": [
    "new_list = ['a','b','c','d']"
   ]
  },
  {
   "cell_type": "code",
   "execution_count": null,
   "id": "08731e7f",
   "metadata": {},
   "outputs": [],
   "source": [
    "new_list.reverse()"
   ]
  },
  {
   "cell_type": "code",
   "execution_count": null,
   "id": "e48a337c",
   "metadata": {},
   "outputs": [
    {
     "data": {
      "text/plain": [
       "['d', 'c', 'b', 'a']"
      ]
     },
     "execution_count": 63,
     "metadata": {},
     "output_type": "execute_result"
    }
   ],
   "source": [
    "new_list"
   ]
  },
  {
   "cell_type": "code",
   "execution_count": null,
   "id": "da39a073",
   "metadata": {},
   "outputs": [],
   "source": [
    "new_list.sort()"
   ]
  },
  {
   "cell_type": "code",
   "execution_count": null,
   "id": "81bd0b33",
   "metadata": {},
   "outputs": [
    {
     "data": {
      "text/plain": [
       "['a', 'b', 'c', 'd']"
      ]
     },
     "execution_count": 65,
     "metadata": {},
     "output_type": "execute_result"
    }
   ],
   "source": [
    "new_list"
   ]
  },
  {
   "cell_type": "code",
   "execution_count": null,
   "id": "c5d78016",
   "metadata": {},
   "outputs": [],
   "source": [
    "list1 = [1,2,3]\n",
    "list2= [4,5,6]\n",
    "list3 = [7,8,9]"
   ]
  },
  {
   "cell_type": "code",
   "execution_count": null,
   "id": "fe0c4f60",
   "metadata": {},
   "outputs": [],
   "source": [
    "list4 = [list1, list2, list3]"
   ]
  },
  {
   "cell_type": "code",
   "execution_count": null,
   "id": "c2efad52",
   "metadata": {},
   "outputs": [
    {
     "data": {
      "text/plain": [
       "[[1, 2, 3], [4, 5, 6], [7, 8, 9]]"
      ]
     },
     "execution_count": 68,
     "metadata": {},
     "output_type": "execute_result"
    }
   ],
   "source": [
    "list4"
   ]
  },
  {
   "cell_type": "code",
   "execution_count": null,
   "id": "68335a1c",
   "metadata": {},
   "outputs": [
    {
     "data": {
      "text/plain": [
       "1"
      ]
     },
     "execution_count": 69,
     "metadata": {},
     "output_type": "execute_result"
    }
   ],
   "source": [
    "list4[0][0]"
   ]
  },
  {
   "cell_type": "code",
   "execution_count": null,
   "id": "83129396",
   "metadata": {},
   "outputs": [
    {
     "data": {
      "text/plain": [
       "7"
      ]
     },
     "execution_count": 70,
     "metadata": {},
     "output_type": "execute_result"
    }
   ],
   "source": [
    "list4[2][0]"
   ]
  },
  {
   "cell_type": "code",
   "execution_count": null,
   "id": "9fa365c2",
   "metadata": {},
   "outputs": [
    {
     "data": {
      "text/plain": [
       "[2, 'Hello', [1, 2, 3]]"
      ]
     },
     "execution_count": 71,
     "metadata": {},
     "output_type": "execute_result"
    }
   ],
   "source": [
    "minh_lista2[-3:]"
   ]
  },
  {
   "cell_type": "markdown",
   "id": "7601733d",
   "metadata": {},
   "source": [
    "##Dicionários"
   ]
  },
  {
   "cell_type": "code",
   "execution_count": null,
   "id": "3de150a9",
   "metadata": {},
   "outputs": [],
   "source": [
    "#chave: valor\n",
    "meu_dicionario = {'nome': 'Leandro', 'idade': 29, 'filhos': ['João', 'Maria']}"
   ]
  },
  {
   "cell_type": "code",
   "execution_count": null,
   "id": "2dfeece8",
   "metadata": {},
   "outputs": [
    {
     "data": {
      "text/plain": [
       "{'nome': 'Leandro', 'idade': 29, 'filhos': ['João', 'Maria']}"
      ]
     },
     "execution_count": 73,
     "metadata": {},
     "output_type": "execute_result"
    }
   ],
   "source": [
    "meu_dicionario"
   ]
  },
  {
   "cell_type": "code",
   "execution_count": null,
   "id": "a83c7531",
   "metadata": {},
   "outputs": [
    {
     "data": {
      "text/plain": [
       "'Leandro'"
      ]
     },
     "execution_count": 74,
     "metadata": {},
     "output_type": "execute_result"
    }
   ],
   "source": [
    "meu_dicionario['nome']"
   ]
  },
  {
   "cell_type": "code",
   "execution_count": null,
   "id": "8ad0ba2c",
   "metadata": {},
   "outputs": [],
   "source": [
    "meu_dicionario['idade'] = 39"
   ]
  },
  {
   "cell_type": "code",
   "execution_count": null,
   "id": "6aab3dfe",
   "metadata": {},
   "outputs": [
    {
     "data": {
      "text/plain": [
       "{'nome': 'Leandro', 'idade': 39, 'filhos': ['João', 'Maria']}"
      ]
     },
     "execution_count": 76,
     "metadata": {},
     "output_type": "execute_result"
    }
   ],
   "source": [
    "meu_dicionario"
   ]
  },
  {
   "cell_type": "code",
   "execution_count": null,
   "id": "c049eae3",
   "metadata": {},
   "outputs": [],
   "source": [
    "meu_dicionario['cidade'] = 'Crato'"
   ]
  },
  {
   "cell_type": "code",
   "execution_count": null,
   "id": "e6eaae85",
   "metadata": {},
   "outputs": [
    {
     "data": {
      "text/plain": [
       "{'nome': 'Leandro',\n",
       " 'idade': 39,\n",
       " 'filhos': ['João', 'Maria'],\n",
       " 'cidade': 'Crato'}"
      ]
     },
     "execution_count": 78,
     "metadata": {},
     "output_type": "execute_result"
    }
   ],
   "source": [
    "meu_dicionario"
   ]
  },
  {
   "cell_type": "code",
   "execution_count": null,
   "id": "da12ab47",
   "metadata": {},
   "outputs": [],
   "source": [
    "meu_dicionario['variavel aleatoria'] = {'a':1, 'b':2}"
   ]
  },
  {
   "cell_type": "code",
   "execution_count": null,
   "id": "b263d141",
   "metadata": {},
   "outputs": [
    {
     "data": {
      "text/plain": [
       "{'nome': 'Leandro',\n",
       " 'idade': 39,\n",
       " 'filhos': ['João', 'Maria'],\n",
       " 'cidade': 'Crato',\n",
       " 'variavel aleatoria': {'a': 1, 'b': 2}}"
      ]
     },
     "execution_count": 80,
     "metadata": {},
     "output_type": "execute_result"
    }
   ],
   "source": [
    "meu_dicionario"
   ]
  },
  {
   "cell_type": "code",
   "execution_count": null,
   "id": "aaffcb75",
   "metadata": {},
   "outputs": [
    {
     "data": {
      "text/plain": [
       "dict_keys(['nome', 'idade', 'filhos', 'cidade', 'variavel aleatoria'])"
      ]
     },
     "execution_count": 81,
     "metadata": {},
     "output_type": "execute_result"
    }
   ],
   "source": [
    "meu_dicionario.keys()"
   ]
  },
  {
   "cell_type": "code",
   "execution_count": null,
   "id": "18a0592b",
   "metadata": {},
   "outputs": [
    {
     "data": {
      "text/plain": [
       "dict_values(['Leandro', 39, ['João', 'Maria'], 'Crato', {'a': 1, 'b': 2}])"
      ]
     },
     "execution_count": 82,
     "metadata": {},
     "output_type": "execute_result"
    }
   ],
   "source": [
    "meu_dicionario.values()"
   ]
  },
  {
   "cell_type": "code",
   "execution_count": null,
   "id": "5e04a832",
   "metadata": {},
   "outputs": [
    {
     "data": {
      "text/plain": [
       "dict_items([('nome', 'Leandro'), ('idade', 39), ('filhos', ['João', 'Maria']), ('cidade', 'Crato'), ('variavel aleatoria', {'a': 1, 'b': 2})])"
      ]
     },
     "execution_count": 83,
     "metadata": {},
     "output_type": "execute_result"
    }
   ],
   "source": [
    "meu_dicionario.items()"
   ]
  },
  {
   "cell_type": "markdown",
   "id": "90defcfd",
   "metadata": {},
   "source": [
    "##Tuplas"
   ]
  },
  {
   "cell_type": "code",
   "execution_count": null,
   "id": "2cc9bd97",
   "metadata": {},
   "outputs": [],
   "source": [
    "t = (1,2,3)"
   ]
  },
  {
   "cell_type": "code",
   "execution_count": null,
   "id": "a5d02d7a",
   "metadata": {},
   "outputs": [
    {
     "data": {
      "text/plain": [
       "(1, 2, 3)"
      ]
     },
     "execution_count": 85,
     "metadata": {},
     "output_type": "execute_result"
    }
   ],
   "source": [
    "t"
   ]
  },
  {
   "cell_type": "code",
   "execution_count": null,
   "id": "126d56aa",
   "metadata": {},
   "outputs": [
    {
     "data": {
      "text/plain": [
       "(1, 2, 3)"
      ]
     },
     "execution_count": 86,
     "metadata": {},
     "output_type": "execute_result"
    }
   ],
   "source": [
    "t[:]"
   ]
  },
  {
   "cell_type": "code",
   "execution_count": null,
   "id": "72941c05",
   "metadata": {},
   "outputs": [
    {
     "data": {
      "text/plain": [
       "(1, 2)"
      ]
     },
     "execution_count": 87,
     "metadata": {},
     "output_type": "execute_result"
    }
   ],
   "source": [
    "t[:-1]"
   ]
  },
  {
   "cell_type": "code",
   "execution_count": null,
   "id": "e326ed1e",
   "metadata": {},
   "outputs": [],
   "source": [
    "a,b =(1,2)"
   ]
  },
  {
   "cell_type": "code",
   "execution_count": null,
   "id": "c1cd8355",
   "metadata": {},
   "outputs": [
    {
     "data": {
      "text/plain": [
       "1"
      ]
     },
     "execution_count": 89,
     "metadata": {},
     "output_type": "execute_result"
    }
   ],
   "source": [
    "a"
   ]
  },
  {
   "cell_type": "code",
   "execution_count": null,
   "id": "80696a30",
   "metadata": {},
   "outputs": [
    {
     "data": {
      "text/plain": [
       "2"
      ]
     },
     "execution_count": 90,
     "metadata": {},
     "output_type": "execute_result"
    }
   ],
   "source": [
    "b"
   ]
  },
  {
   "cell_type": "markdown",
   "id": "844a8694",
   "metadata": {},
   "source": [
    "##Input, Sets e Booleanos"
   ]
  },
  {
   "cell_type": "code",
   "execution_count": null,
   "id": "be25cdf5",
   "metadata": {},
   "outputs": [],
   "source": [
    "a = input()"
   ]
  },
  {
   "cell_type": "code",
   "execution_count": null,
   "id": "e564675d",
   "metadata": {},
   "outputs": [
    {
     "data": {
      "text/plain": [
       "''"
      ]
     },
     "execution_count": 92,
     "metadata": {},
     "output_type": "execute_result"
    }
   ],
   "source": [
    "a"
   ]
  },
  {
   "cell_type": "code",
   "execution_count": null,
   "id": "f415a354",
   "metadata": {},
   "outputs": [
    {
     "data": {
      "text/plain": [
       "str"
      ]
     },
     "execution_count": 93,
     "metadata": {},
     "output_type": "execute_result"
    }
   ],
   "source": [
    "type(a)"
   ]
  },
  {
   "cell_type": "code",
   "execution_count": null,
   "id": "7755da94",
   "metadata": {},
   "outputs": [],
   "source": [
    "#Set é uma lista em que não se aceita elementos repetidos\n",
    "x = set()"
   ]
  },
  {
   "cell_type": "code",
   "execution_count": null,
   "id": "e8115e0b",
   "metadata": {},
   "outputs": [],
   "source": [
    "x.add(1)"
   ]
  },
  {
   "cell_type": "code",
   "execution_count": null,
   "id": "6ffc4843",
   "metadata": {},
   "outputs": [],
   "source": [
    "x.add(2)"
   ]
  },
  {
   "cell_type": "code",
   "execution_count": null,
   "id": "5e33c58c",
   "metadata": {},
   "outputs": [],
   "source": [
    "x.add(4)"
   ]
  },
  {
   "cell_type": "code",
   "execution_count": null,
   "id": "0deaeafb",
   "metadata": {},
   "outputs": [
    {
     "data": {
      "text/plain": [
       "{1, 2, 4}"
      ]
     },
     "execution_count": 98,
     "metadata": {},
     "output_type": "execute_result"
    }
   ],
   "source": [
    "x"
   ]
  },
  {
   "cell_type": "code",
   "execution_count": null,
   "id": "6dcfa6a4",
   "metadata": {},
   "outputs": [],
   "source": [
    "x.add(2)"
   ]
  },
  {
   "cell_type": "code",
   "execution_count": null,
   "id": "4d68715b",
   "metadata": {},
   "outputs": [
    {
     "data": {
      "text/plain": [
       "{1, 2, 4}"
      ]
     },
     "execution_count": 100,
     "metadata": {},
     "output_type": "execute_result"
    }
   ],
   "source": [
    "x"
   ]
  },
  {
   "cell_type": "code",
   "execution_count": null,
   "id": "58fc7105",
   "metadata": {},
   "outputs": [],
   "source": [
    "l = [1,2,3,4,4,4,5,5,5]"
   ]
  },
  {
   "cell_type": "code",
   "execution_count": null,
   "id": "84a955ef",
   "metadata": {},
   "outputs": [],
   "source": [
    "l1 = set(l)"
   ]
  },
  {
   "cell_type": "code",
   "execution_count": null,
   "id": "16a5fbb7",
   "metadata": {},
   "outputs": [
    {
     "data": {
      "text/plain": [
       "{1, 2, 3, 4, 5}"
      ]
     },
     "execution_count": 103,
     "metadata": {},
     "output_type": "execute_result"
    }
   ],
   "source": [
    "l1"
   ]
  },
  {
   "cell_type": "code",
   "execution_count": null,
   "id": "d85d9cc3",
   "metadata": {},
   "outputs": [
    {
     "data": {
      "text/plain": [
       "{1, 2, 3, 4, 5}"
      ]
     },
     "execution_count": 104,
     "metadata": {},
     "output_type": "execute_result"
    }
   ],
   "source": [
    "x.union(l1)"
   ]
  },
  {
   "cell_type": "code",
   "execution_count": null,
   "id": "1f85c048",
   "metadata": {},
   "outputs": [
    {
     "data": {
      "text/plain": [
       "{1, 2, 4}"
      ]
     },
     "execution_count": 105,
     "metadata": {},
     "output_type": "execute_result"
    }
   ],
   "source": [
    "x.intersection(l1)"
   ]
  },
  {
   "cell_type": "code",
   "execution_count": null,
   "id": "2c9e59ea",
   "metadata": {},
   "outputs": [
    {
     "data": {
      "text/plain": [
       "set()"
      ]
     },
     "execution_count": 106,
     "metadata": {},
     "output_type": "execute_result"
    }
   ],
   "source": [
    "x.difference(l1)"
   ]
  },
  {
   "cell_type": "code",
   "execution_count": null,
   "id": "187cc2ea",
   "metadata": {},
   "outputs": [
    {
     "data": {
      "text/plain": [
       "{3, 5}"
      ]
     },
     "execution_count": 107,
     "metadata": {},
     "output_type": "execute_result"
    }
   ],
   "source": [
    "l1.difference(x)"
   ]
  },
  {
   "cell_type": "code",
   "execution_count": null,
   "id": "e6343056",
   "metadata": {},
   "outputs": [],
   "source": [
    "a = True"
   ]
  },
  {
   "cell_type": "code",
   "execution_count": null,
   "id": "0e386ac8",
   "metadata": {},
   "outputs": [],
   "source": [
    "b = False"
   ]
  },
  {
   "cell_type": "code",
   "execution_count": null,
   "id": "89155e92",
   "metadata": {},
   "outputs": [
    {
     "data": {
      "text/plain": [
       "False"
      ]
     },
     "execution_count": 110,
     "metadata": {},
     "output_type": "execute_result"
    }
   ],
   "source": [
    "1 > 2"
   ]
  },
  {
   "cell_type": "code",
   "execution_count": null,
   "id": "ae3befc0",
   "metadata": {},
   "outputs": [
    {
     "data": {
      "text/plain": [
       "bool"
      ]
     },
     "execution_count": 111,
     "metadata": {},
     "output_type": "execute_result"
    }
   ],
   "source": [
    "type(a)"
   ]
  },
  {
   "cell_type": "code",
   "execution_count": null,
   "id": "2a7dbef7",
   "metadata": {},
   "outputs": [],
   "source": [
    "c = [1,2,2,3,4,5,5,5,6,6,7]"
   ]
  },
  {
   "cell_type": "code",
   "execution_count": null,
   "id": "066caf49",
   "metadata": {},
   "outputs": [
    {
     "data": {
      "text/plain": [
       "{1, 2, 3, 4, 5, 6, 7}"
      ]
     },
     "execution_count": 113,
     "metadata": {},
     "output_type": "execute_result"
    }
   ],
   "source": [
    "set(c)"
   ]
  },
  {
   "cell_type": "markdown",
   "id": "797661c1",
   "metadata": {},
   "source": [
    "##Operadores de comparação"
   ]
  },
  {
   "cell_type": "code",
   "execution_count": null,
   "id": "7054ceef",
   "metadata": {},
   "outputs": [],
   "source": [
    "#Igualdade\n",
    "a = 1 #(Atribuição)"
   ]
  },
  {
   "cell_type": "code",
   "execution_count": null,
   "id": "73ac707a",
   "metadata": {},
   "outputs": [
    {
     "data": {
      "text/plain": [
       "True"
      ]
     },
     "execution_count": 115,
     "metadata": {},
     "output_type": "execute_result"
    }
   ],
   "source": [
    "2 == 2 #(comparação)"
   ]
  },
  {
   "cell_type": "code",
   "execution_count": null,
   "id": "8d2c0590",
   "metadata": {},
   "outputs": [
    {
     "data": {
      "text/plain": [
       "False"
      ]
     },
     "execution_count": 116,
     "metadata": {},
     "output_type": "execute_result"
    }
   ],
   "source": [
    "1 == 0"
   ]
  },
  {
   "cell_type": "code",
   "execution_count": null,
   "id": "3bc2d4a9",
   "metadata": {},
   "outputs": [
    {
     "data": {
      "text/plain": [
       "True"
      ]
     },
     "execution_count": 117,
     "metadata": {},
     "output_type": "execute_result"
    }
   ],
   "source": [
    "#Desiguadade\n",
    "2 != 1"
   ]
  },
  {
   "cell_type": "code",
   "execution_count": null,
   "id": "a7a4682e",
   "metadata": {},
   "outputs": [
    {
     "data": {
      "text/plain": [
       "False"
      ]
     },
     "execution_count": 118,
     "metadata": {},
     "output_type": "execute_result"
    }
   ],
   "source": [
    "2 != 2"
   ]
  },
  {
   "cell_type": "code",
   "execution_count": null,
   "id": "1c849cae",
   "metadata": {},
   "outputs": [
    {
     "data": {
      "text/plain": [
       "False"
      ]
     },
     "execution_count": 119,
     "metadata": {},
     "output_type": "execute_result"
    }
   ],
   "source": [
    "#Maior que \n",
    "2 > 2"
   ]
  },
  {
   "cell_type": "code",
   "execution_count": null,
   "id": "1e06e210",
   "metadata": {},
   "outputs": [
    {
     "data": {
      "text/plain": [
       "False"
      ]
     },
     "execution_count": 120,
     "metadata": {},
     "output_type": "execute_result"
    }
   ],
   "source": [
    "2 > 4"
   ]
  },
  {
   "cell_type": "code",
   "execution_count": null,
   "id": "a0fe5851",
   "metadata": {},
   "outputs": [
    {
     "data": {
      "text/plain": [
       "True"
      ]
     },
     "execution_count": 121,
     "metadata": {},
     "output_type": "execute_result"
    }
   ],
   "source": [
    "#Menor que\n",
    "2 < 4"
   ]
  },
  {
   "cell_type": "code",
   "execution_count": null,
   "id": "456c99dc",
   "metadata": {},
   "outputs": [
    {
     "data": {
      "text/plain": [
       "False"
      ]
     },
     "execution_count": 122,
     "metadata": {},
     "output_type": "execute_result"
    }
   ],
   "source": [
    "2 < 1"
   ]
  },
  {
   "cell_type": "code",
   "execution_count": null,
   "id": "8050246f",
   "metadata": {},
   "outputs": [
    {
     "data": {
      "text/plain": [
       "True"
      ]
     },
     "execution_count": 123,
     "metadata": {},
     "output_type": "execute_result"
    }
   ],
   "source": [
    "#Maior ou igual que\n",
    "2 >= 2"
   ]
  },
  {
   "cell_type": "code",
   "execution_count": null,
   "id": "5703ffdd",
   "metadata": {},
   "outputs": [
    {
     "data": {
      "text/plain": [
       "True"
      ]
     },
     "execution_count": 124,
     "metadata": {},
     "output_type": "execute_result"
    }
   ],
   "source": [
    "2 >= 1"
   ]
  },
  {
   "cell_type": "code",
   "execution_count": null,
   "id": "8ad2e682",
   "metadata": {},
   "outputs": [
    {
     "data": {
      "text/plain": [
       "True"
      ]
     },
     "execution_count": 125,
     "metadata": {},
     "output_type": "execute_result"
    }
   ],
   "source": [
    "#Menor ou igual que \n",
    "2 <= 2"
   ]
  },
  {
   "cell_type": "code",
   "execution_count": null,
   "id": "30580e47",
   "metadata": {},
   "outputs": [
    {
     "data": {
      "text/plain": [
       "True"
      ]
     },
     "execution_count": 126,
     "metadata": {},
     "output_type": "execute_result"
    }
   ],
   "source": [
    "2 <= 4"
   ]
  },
  {
   "cell_type": "markdown",
   "id": "b5e185c6",
   "metadata": {},
   "source": [
    "##Exercícios #1 - Estruturas de dados"
   ]
  },
  {
   "cell_type": "code",
   "execution_count": null,
   "id": "8bd0ca79",
   "metadata": {},
   "outputs": [
    {
     "name": "stdout",
     "output_type": "stream",
     "text": [
      "Olá Leandro, o seu IMC possui o valor de: 0.00Kg/m2\n"
     ]
    }
   ],
   "source": [
    "#Exercício 1 - Utilizando o buit-in method input(), crie um programa que receba a altura e o peso de uma pessoa e imprima na tela o IMC da mesma\n",
    "nome = input('Insira seu nome: ').capitalize()\n",
    "altura = float(input('Digite a sua altura em m: '))\n",
    "peso = float(input('Digite o seu peso: '))\n",
    "imc = peso/(altura**2)\n",
    "print(f'Olá {nome}, o seu IMC possui o valor de: {imc:.2f}Kg/m2')"
   ]
  },
  {
   "cell_type": "code",
   "execution_count": null,
   "id": "fe7cd6a0",
   "metadata": {},
   "outputs": [
    {
     "name": "stdout",
     "output_type": "stream",
     "text": [
      "olá Leandro como vai?\n"
     ]
    }
   ],
   "source": [
    "#Exercício 2 - Escreva um programa que pergunte o nome completo do usuário e cumprimente o mesmo pelo primeiro nome\n",
    "nome_completo = input('Digite o seu nome completo: ').capitalize()\n",
    "first_name = nome_completo.split(' ')\n",
    "print(f'olá {first_name[0]} como vai?')"
   ]
  },
  {
   "cell_type": "code",
   "execution_count": null,
   "id": "e96ae790",
   "metadata": {},
   "outputs": [
    {
     "name": "stdout",
     "output_type": "stream",
     "text": [
      "O dominio do seu email é: gmail.com\n"
     ]
    }
   ],
   "source": [
    "#Exercício 3 - Desenhe um código que extraia o domínio deum e-mail informado\n",
    "email = input('Digite o seu email completo')\n",
    "dominio = email.split('@')\n",
    "print(f'O dominio do seu email é: {dominio[-1]}')"
   ]
  },
  {
   "cell_type": "code",
   "execution_count": null,
   "id": "8ebefd8f",
   "metadata": {},
   "outputs": [
    {
     "data": {
      "text/plain": [
       "'A Pessoa deve comrpar 3 latas e pagará R$240.00'"
      ]
     },
     "execution_count": 131,
     "metadata": {},
     "output_type": "execute_result"
    }
   ],
   "source": [
    "#Exercício 4 - Faça um programa para uma loja de tintas. A pessoa informa a área em m2 que deseja pintar, e o script calculará a quantidade de latas de tinta que a pessoa deve comprar e o valor. Considere que cada litro de tinta pinta 3m2, que cada lata contém 18L e que custa R$ 80.\n",
    "area = float(input('Digite a área: '))\n",
    "volume_nec = area/3\n",
    "latas = int(volume_nec/18)\n",
    "money = latas * 80\n",
    "f'A Pessoa deve comrpar {latas} latas e pagará R${money:.2f}'\n"
   ]
  },
  {
   "cell_type": "code",
   "execution_count": null,
   "id": "235a33d9",
   "metadata": {},
   "outputs": [
    {
     "name": "stdout",
     "output_type": "stream",
     "text": [
      "Calculadora de salário.\n",
      "Informe sua remuneração por horas: \n",
      "Informe quantas horas trabalhou por mês: \n",
      "1. Salário bruto: R$ 3200.00\n",
      "2. Valor pago de IMposto de Renda: R$ 352.00\n",
      "3. Valor pago de inSS: R$227.84\n",
      "4. Valor pago ao sindicado: R$ 131.01\n",
      "5. Salário líquido: R$ 2489.15\n"
     ]
    }
   ],
   "source": [
    "#Exercício 5 - Faça um Programa que pergunte quanto você ganha por hora e o número de horas trabalhadas no mês. Calcule e mostre o total do seu salário no referido mês, sabendo-se que são descontados 11% para o Imposto de Renda, 8% para o INSS e 5% para o sindicato, faça um programa que nos dê: 1. Salário bruto. 2. Quanto pagou ao INSS. 3. Quanto pagou ao sindicato. 4. O salário líquido.\"\n",
    "print('Calculadora de salário.')\n",
    "print('Informe sua remuneração por horas: ')\n",
    "valor_por_hora = float(input())\n",
    "\n",
    "print('Informe quantas horas trabalhou por mês: ')\n",
    "horas_trabalhadas = float(input())\n",
    "\n",
    "salario = valor_por_hora * horas_trabalhadas\n",
    "ir = salario * 0.11\n",
    "inss = (salario - ir) * 0.08\n",
    "sindicato = (salario - ir - inss) * 0.05\n",
    "salario_liquido = salario - ir - inss - sindicato\n",
    "print(f'1. Salário bruto: R$ {salario:.2f}')\n",
    "print(f'2. Valor pago de IMposto de Renda: R$ {ir:.2f}')\n",
    "print(f'3. Valor pago de inSS: R${inss:.2f}')\n",
    "print(f'4. Valor pago ao sindicado: R$ {sindicato:.2f}')\n",
    "print(f'5. Salário líquido: R$ {salario_liquido:.2f}')"
   ]
  },
  {
   "cell_type": "markdown",
   "id": "13b46a3d",
   "metadata": {},
   "source": [
    "##Operadores de comparação em cadeia"
   ]
  },
  {
   "cell_type": "code",
   "execution_count": null,
   "id": "040d7549",
   "metadata": {},
   "outputs": [
    {
     "data": {
      "text/plain": [
       "False"
      ]
     },
     "execution_count": 10,
     "metadata": {},
     "output_type": "execute_result"
    }
   ],
   "source": [
    "1 < 2 > 3"
   ]
  },
  {
   "cell_type": "code",
   "execution_count": null,
   "id": "8dfc56f6",
   "metadata": {},
   "outputs": [
    {
     "data": {
      "text/plain": [
       "False"
      ]
     },
     "execution_count": 11,
     "metadata": {},
     "output_type": "execute_result"
    }
   ],
   "source": [
    "3 > 2 and 2 > 3"
   ]
  },
  {
   "cell_type": "code",
   "execution_count": null,
   "id": "307dceeb",
   "metadata": {},
   "outputs": [
    {
     "data": {
      "text/plain": [
       "True"
      ]
     },
     "execution_count": 132,
     "metadata": {},
     "output_type": "execute_result"
    }
   ],
   "source": [
    "2 > 1 or 2 > 3"
   ]
  },
  {
   "cell_type": "code",
   "execution_count": null,
   "id": "6b90fea6",
   "metadata": {},
   "outputs": [
    {
     "data": {
      "text/plain": [
       "True"
      ]
     },
     "execution_count": 134,
     "metadata": {},
     "output_type": "execute_result"
    }
   ],
   "source": [
    "2 > 1 or 2 > 3 or 2 > 11 or 2 > 3"
   ]
  },
  {
   "cell_type": "code",
   "execution_count": null,
   "id": "3b51aa5a",
   "metadata": {},
   "outputs": [
    {
     "data": {
      "text/plain": [
       "False"
      ]
     },
     "execution_count": 135,
     "metadata": {},
     "output_type": "execute_result"
    }
   ],
   "source": [
    "(2 > 1 or 2 > 3) and (2 > 11 or 2 > 3)"
   ]
  },
  {
   "cell_type": "markdown",
   "id": "7d8e43ab",
   "metadata": {},
   "source": [
    "##IF, elif e else"
   ]
  },
  {
   "cell_type": "code",
   "execution_count": null,
   "id": "544a3f79",
   "metadata": {},
   "outputs": [
    {
     "name": "stdout",
     "output_type": "stream",
     "text": [
      "Está quente\n"
     ]
    }
   ],
   "source": [
    "temp = 31\n",
    "if temp > 30:\n",
    "    print('Está quente')"
   ]
  },
  {
   "cell_type": "code",
   "execution_count": null,
   "id": "36403b0f",
   "metadata": {},
   "outputs": [
    {
     "name": "stdout",
     "output_type": "stream",
     "text": [
      "Está muito frio\n",
      "Congelado\n"
     ]
    }
   ],
   "source": [
    "temp = -51\n",
    "if temp >= 30:\n",
    "    print('Está quente')\n",
    "elif temp < 0:\n",
    "    print('Está muito frio')\n",
    "    if temp < -50:\n",
    "        print('Congelado')\n",
    "else:\n",
    "    print('Está normal')"
   ]
  },
  {
   "cell_type": "markdown",
   "id": "5d030d75",
   "metadata": {},
   "source": [
    "##Range"
   ]
  },
  {
   "cell_type": "code",
   "execution_count": null,
   "id": "291bb746",
   "metadata": {},
   "outputs": [
    {
     "data": {
      "text/plain": [
       "range(0, 10)"
      ]
     },
     "execution_count": 1,
     "metadata": {},
     "output_type": "execute_result"
    }
   ],
   "source": [
    "range(0,10)"
   ]
  },
  {
   "cell_type": "code",
   "execution_count": null,
   "id": "504fd363",
   "metadata": {},
   "outputs": [
    {
     "data": {
      "text/plain": [
       "[0, 2, 4, 6, 8]"
      ]
     },
     "execution_count": 2,
     "metadata": {},
     "output_type": "execute_result"
    }
   ],
   "source": [
    "list(range(0,10,2))"
   ]
  },
  {
   "cell_type": "code",
   "execution_count": null,
   "id": "2a391682",
   "metadata": {},
   "outputs": [
    {
     "data": {
      "text/plain": [
       "[0, 1, 2, 3, 4, 5, 6, 7, 8, 9]"
      ]
     },
     "execution_count": 4,
     "metadata": {},
     "output_type": "execute_result"
    }
   ],
   "source": [
    "list(range(0,10))"
   ]
  },
  {
   "cell_type": "markdown",
   "id": "fbec6e4a",
   "metadata": {},
   "source": [
    "##For"
   ]
  },
  {
   "cell_type": "code",
   "execution_count": null,
   "id": "c560849f",
   "metadata": {},
   "outputs": [
    {
     "name": "stdout",
     "output_type": "stream",
     "text": [
      "olá\n",
      "0\n",
      "olá\n",
      "1\n",
      "olá\n",
      "2\n",
      "olá\n",
      "3\n",
      "olá\n",
      "4\n",
      "olá\n",
      "5\n",
      "olá\n",
      "6\n",
      "olá\n",
      "7\n",
      "olá\n",
      "8\n",
      "olá\n",
      "9\n"
     ]
    }
   ],
   "source": [
    "for i in range(10):\n",
    "    print('olá')\n",
    "    print(i)"
   ]
  },
  {
   "cell_type": "code",
   "execution_count": null,
   "id": "5e3e0152",
   "metadata": {},
   "outputs": [
    {
     "name": "stdout",
     "output_type": "stream",
     "text": [
      "c\n",
      "b\n",
      "a\n"
     ]
    }
   ],
   "source": [
    "l = {'a', 'b', 'c'}\n",
    "for i in l:\n",
    "    print(i)"
   ]
  },
  {
   "cell_type": "code",
   "execution_count": null,
   "id": "389562c3",
   "metadata": {},
   "outputs": [
    {
     "name": "stdout",
     "output_type": "stream",
     "text": [
      "L\n",
      "e\n",
      "a\n",
      "n\n",
      "d\n",
      "r\n",
      "o\n"
     ]
    }
   ],
   "source": [
    "l = 'Leandro'\n",
    "for i in l:\n",
    "    print(i)"
   ]
  },
  {
   "cell_type": "code",
   "execution_count": null,
   "id": "e283a0e0",
   "metadata": {},
   "outputs": [
    {
     "name": "stdout",
     "output_type": "stream",
     "text": [
      "0 é par\n",
      "2 é par\n",
      "4 é par\n",
      "6 é par\n",
      "8 é par\n"
     ]
    }
   ],
   "source": [
    "for i in range(10):\n",
    "    if i % 2 == 0:\n",
    "        print(f'{i} é par')"
   ]
  },
  {
   "cell_type": "markdown",
   "id": "eb61d8d0",
   "metadata": {},
   "source": [
    "##While"
   ]
  },
  {
   "cell_type": "code",
   "execution_count": 1,
   "id": "25171673",
   "metadata": {},
   "outputs": [],
   "source": [
    "#while condição:\n",
    "    #codigo"
   ]
  },
  {
   "cell_type": "code",
   "execution_count": 2,
   "id": "eca2e0c9",
   "metadata": {},
   "outputs": [
    {
     "name": "stdout",
     "output_type": "stream",
     "text": [
      "o valor de x é: 0\n",
      "o valor de x é: 1\n",
      "o valor de x é: 2\n",
      "o valor de x é: 3\n",
      "o valor de x é: 4\n",
      "o valor de x é: 5\n",
      "o valor de x é: 6\n",
      "o valor de x é: 7\n",
      "o valor de x é: 8\n",
      "o valor de x é: 9\n"
     ]
    }
   ],
   "source": [
    "x = 0\n",
    "while x < 10:\n",
    "    print(f'o valor de x é: {x}')\n",
    "    x += 1 #sem essa parte vira um loop infinito"
   ]
  },
  {
   "cell_type": "code",
   "execution_count": 4,
   "id": "c5873743",
   "metadata": {},
   "outputs": [
    {
     "name": "stdout",
     "output_type": "stream",
     "text": [
      "1\n",
      "2\n",
      "3\n",
      "4\n",
      "5\n",
      "6\n",
      "7\n",
      "8\n",
      "9\n",
      "10\n",
      "Fogo\n"
     ]
    }
   ],
   "source": [
    "x = 0\n",
    "while x < 10:\n",
    "    x += 1\n",
    "    print(x)\n",
    "print('Fogo')"
   ]
  },
  {
   "cell_type": "code",
   "execution_count": null,
   "id": "b9276df0",
   "metadata": {},
   "outputs": [
    {
     "name": "stdout",
     "output_type": "stream",
     "text": [
      "O valor de x é: 0\n",
      "O valor de x é: 1\n",
      "O valor de x é: 2\n",
      "O valor de x é: 3\n",
      "O valor de x é: 4\n",
      "O valor de x é: 5\n",
      "O valor de x é: 6\n",
      "O valor de x é: 7\n",
      "O valor de x é: 8\n",
      "O valor de x é: 9\n"
     ]
    }
   ],
   "source": [
    "x = 0\n",
    "while x < 10:\n",
    "    print(f'O valor de x é: {x}')\n",
    "    x += 1\n",
    "    continue #Não passa para baixo e recomeça - pode ser utilizado no for também\n",
    "    print('Isso não vai ser printado por causa do continue')"
   ]
  },
  {
   "cell_type": "code",
   "execution_count": 6,
   "id": "109c492b",
   "metadata": {},
   "outputs": [
    {
     "name": "stdout",
     "output_type": "stream",
     "text": [
      "O valor de x é: 0\n"
     ]
    }
   ],
   "source": [
    "x = 0\n",
    "while x < 10:\n",
    "    print(f'O valor de x é: {x}')\n",
    "    x += 1\n",
    "    break #trava tudo para baixo e sai do laço - pode ser utilizado no for também\n",
    "    print('Isso não vai ser printado por causa do continue')"
   ]
  },
  {
   "cell_type": "code",
   "execution_count": 7,
   "id": "e4d60e99",
   "metadata": {},
   "outputs": [],
   "source": [
    "#while True: <- isso faz com que sempre seja True, caso não vire um False entrará em um loop infito\n",
    "    #codigo"
   ]
  },
  {
   "cell_type": "markdown",
   "id": "7e781ec3",
   "metadata": {},
   "source": [
    "##Compreensão em listas"
   ]
  },
  {
   "cell_type": "code",
   "execution_count": 1,
   "id": "3196c441",
   "metadata": {},
   "outputs": [],
   "source": [
    "word = 'string'"
   ]
  },
  {
   "cell_type": "code",
   "execution_count": 2,
   "id": "91bad517",
   "metadata": {},
   "outputs": [],
   "source": [
    "list_words = []\n",
    "for i in word:\n",
    "    list_words.append(i)"
   ]
  },
  {
   "cell_type": "code",
   "execution_count": 3,
   "id": "82251397",
   "metadata": {},
   "outputs": [
    {
     "data": {
      "text/plain": [
       "['s', 't', 'r', 'i', 'n', 'g']"
      ]
     },
     "execution_count": 3,
     "metadata": {},
     "output_type": "execute_result"
    }
   ],
   "source": [
    "list_words"
   ]
  },
  {
   "cell_type": "code",
   "execution_count": 4,
   "id": "0b277c6c",
   "metadata": {},
   "outputs": [
    {
     "data": {
      "text/plain": [
       "['s', 't', 'r', 'i', 'n', 'g']"
      ]
     },
     "execution_count": 4,
     "metadata": {},
     "output_type": "execute_result"
    }
   ],
   "source": [
    "list_words = [i for i in word ]\n",
    "list_words"
   ]
  },
  {
   "cell_type": "code",
   "execution_count": 5,
   "id": "d265f8a5",
   "metadata": {},
   "outputs": [],
   "source": [
    "list_2 = [x**2 for x in range(10)]"
   ]
  },
  {
   "cell_type": "code",
   "execution_count": 6,
   "id": "09c42626",
   "metadata": {},
   "outputs": [
    {
     "data": {
      "text/plain": [
       "[0, 1, 4, 9, 16, 25, 36, 49, 64, 81]"
      ]
     },
     "execution_count": 6,
     "metadata": {},
     "output_type": "execute_result"
    }
   ],
   "source": [
    "list_2"
   ]
  },
  {
   "cell_type": "code",
   "execution_count": 9,
   "id": "561602c5",
   "metadata": {},
   "outputs": [
    {
     "data": {
      "text/plain": [
       "[0, 2, 4, 6, 8]"
      ]
     },
     "execution_count": 9,
     "metadata": {},
     "output_type": "execute_result"
    }
   ],
   "source": [
    "list_3 = [x for x in range(10) if x % 2 == 0]\n",
    "list_3"
   ]
  },
  {
   "cell_type": "markdown",
   "id": "e2ea891f",
   "metadata": {},
   "source": [
    "##Funções"
   ]
  },
  {
   "cell_type": "code",
   "execution_count": 10,
   "id": "c48213e4",
   "metadata": {},
   "outputs": [],
   "source": [
    "def diga_ola():\n",
    "    print('Oi')"
   ]
  },
  {
   "cell_type": "code",
   "execution_count": 11,
   "id": "413067ea",
   "metadata": {},
   "outputs": [
    {
     "name": "stdout",
     "output_type": "stream",
     "text": [
      "Oi\n"
     ]
    }
   ],
   "source": [
    "diga_ola()"
   ]
  },
  {
   "cell_type": "code",
   "execution_count": null,
   "id": "7927ddd3",
   "metadata": {},
   "outputs": [],
   "source": [
    "def saudação(nome):\n",
    "    print(f'Olá {nome}, como vai?')"
   ]
  },
  {
   "cell_type": "code",
   "execution_count": 15,
   "id": "53dc85cc",
   "metadata": {},
   "outputs": [
    {
     "name": "stdout",
     "output_type": "stream",
     "text": [
      "Olá Leandro, como vai?\n"
     ]
    }
   ],
   "source": [
    "saudação('Leandro')"
   ]
  },
  {
   "cell_type": "code",
   "execution_count": 16,
   "id": "6b45d726",
   "metadata": {},
   "outputs": [],
   "source": [
    "def impares(x):\n",
    "    return [i for i in range(x) if i % 2 == 1]"
   ]
  },
  {
   "cell_type": "code",
   "execution_count": 17,
   "id": "415566ef",
   "metadata": {},
   "outputs": [
    {
     "data": {
      "text/plain": [
       "[1, 3, 5, 7, 9]"
      ]
     },
     "execution_count": 17,
     "metadata": {},
     "output_type": "execute_result"
    }
   ],
   "source": [
    "impares(10)"
   ]
  },
  {
   "cell_type": "code",
   "execution_count": 18,
   "id": "33aa78da",
   "metadata": {},
   "outputs": [
    {
     "data": {
      "text/plain": [
       "9"
      ]
     },
     "execution_count": 18,
     "metadata": {},
     "output_type": "execute_result"
    }
   ],
   "source": [
    "impares(11).pop()"
   ]
  },
  {
   "cell_type": "code",
   "execution_count": 19,
   "id": "08a51d44",
   "metadata": {},
   "outputs": [],
   "source": [
    "def add_num(num1, num2):\n",
    "    return num1 + num2"
   ]
  },
  {
   "cell_type": "code",
   "execution_count": 20,
   "id": "10c34b98",
   "metadata": {},
   "outputs": [
    {
     "data": {
      "text/plain": [
       "30"
      ]
     },
     "execution_count": 20,
     "metadata": {},
     "output_type": "execute_result"
    }
   ],
   "source": [
    "add_num(10, 20)"
   ]
  },
  {
   "cell_type": "markdown",
   "id": "b918b85e",
   "metadata": {},
   "source": [
    "##Função Lambda"
   ]
  },
  {
   "cell_type": "code",
   "execution_count": 21,
   "id": "bd2d32ed",
   "metadata": {},
   "outputs": [],
   "source": [
    "def elevear_quadrado(x):\n",
    "    return x ** 2"
   ]
  },
  {
   "cell_type": "code",
   "execution_count": 22,
   "id": "26fbab89",
   "metadata": {},
   "outputs": [
    {
     "data": {
      "text/plain": [
       "100"
      ]
     },
     "execution_count": 22,
     "metadata": {},
     "output_type": "execute_result"
    }
   ],
   "source": [
    "elevear_quadrado(10)"
   ]
  },
  {
   "cell_type": "code",
   "execution_count": 23,
   "id": "4d228a9f",
   "metadata": {},
   "outputs": [],
   "source": [
    "a = lambda x: x** 2"
   ]
  },
  {
   "cell_type": "code",
   "execution_count": 24,
   "id": "4f649cdd",
   "metadata": {},
   "outputs": [
    {
     "data": {
      "text/plain": [
       "100"
      ]
     },
     "execution_count": 24,
     "metadata": {},
     "output_type": "execute_result"
    }
   ],
   "source": [
    "a(10)"
   ]
  },
  {
   "cell_type": "markdown",
   "id": "f51b55a1",
   "metadata": {},
   "source": [
    "##Exercícios #2"
   ]
  },
  {
   "cell_type": "code",
   "execution_count": null,
   "id": "05c71c4f",
   "metadata": {},
   "outputs": [
    {
     "name": "stdout",
     "output_type": "stream",
     "text": [
      "Sua média foi 8.0 e você foi aprovado\n"
     ]
    }
   ],
   "source": [
    "#Exercício 1 - Faça um programa para a leitura de duas notas parciais de um aluno. O programa deve calcular a média alcançada por aluno e apresentar:\n",
    "    #- A mensagem \\\"Aprovado\\\", se a média alcançada for maior ou igual a 7;,\n",
    "    #- A mensagem \\\"Reprovado\\\", se a média for menor do que 7;\n",
    "    #- A mensagem \\\"Aprovado com Distinção\\\", se a média for igual a 10.\n",
    "\n",
    "nota1 = float(input('Digite a primeira nota: '))\n",
    "nota2 = float(input('Digite a segunda nota: '))\n",
    "media = (nota1 + nota2) /2\n",
    "\n",
    "if media == 10:\n",
    "    print(f'Sua média foi {media:.1f} e você foi aprovando com distinção')\n",
    "elif media >= 7:\n",
    "    print(f'Sua média foi {media:.1f} e você foi aprovado')\n",
    "else:\n",
    "    print(f'Sua média foi {media:.1f} e você foi reprovado')"
   ]
  },
  {
   "cell_type": "code",
   "execution_count": null,
   "id": "eec0af82",
   "metadata": {},
   "outputs": [
    {
     "name": "stdout",
     "output_type": "stream",
     "text": [
      "O maior número é o 6 e o menor é o 3\n"
     ]
    }
   ],
   "source": [
    "#Exercício 2 - Escreva um script que leia três números e mostre o maior e o menor deles.\n",
    "num1 = int(input('Digite o 1° número: '))\n",
    "num2 = int(input('Digite o 2° número: '))\n",
    "num3 = int(input('Digite o 3° número: '))\n",
    "\n",
    "if num1 > num2 and num1 > num3:\n",
    "    maior = num1\n",
    "elif num2 > num1 and num2 > num3:\n",
    "    maior = num2\n",
    "else:\n",
    "    maior = num3\n",
    "    \n",
    "if num1 < num2 and num1 < num3:\n",
    "    menor = num1\n",
    "elif num2 < num1 and num2 < num3:\n",
    "    menor = num2\n",
    "else:\n",
    "    menor = num3\n",
    "print(f'O maior número é o {maior} e o menor é o {menor}')\n",
    "\n",
    "#list_nums = []\n",
    "#for i in range(3):\n",
    "    #print(f'Informe {i + 1}° número: ')\n",
    "    #list_nums.append(x)\n",
    "#list_nums.sort()\n",
    "#print(f'O maior número é o {list_nums[-1]} e o menor número é o {list_nums[0]}')\n"
   ]
  },
  {
   "cell_type": "code",
   "execution_count": 28,
   "id": "600201ae",
   "metadata": {},
   "outputs": [
    {
     "name": "stdout",
     "output_type": "stream",
     "text": [
      "\n",
      "l\n",
      "le\n",
      "lea\n",
      "lean\n",
      "leand\n",
      "leandr\n",
      "leandro\n"
     ]
    }
   ],
   "source": [
    "# Exercício 3 - Escreva um nome na vertical em escada.\n",
    "    #Exemplo: \n",
    "    #F,\n",
    "    #FU,\n",
    "    #FUL,\n",
    "    #FULA,\n",
    "    #FULAN,\n",
    "    #FULANO.\n",
    "    \n",
    "nome = input('Digite o seu nome')\n",
    "\n",
    "for i in range(len(nome)+1):\n",
    "    print(nome[:i])"
   ]
  },
  {
   "cell_type": "code",
   "execution_count": 31,
   "id": "8a6627ba",
   "metadata": {},
   "outputs": [
    {
     "name": "stdout",
     "output_type": "stream",
     "text": [
      "1\n",
      "1,2,3,5,8,13,21,34,55,89,144,"
     ]
    }
   ],
   "source": [
    "#Exercício 4 - A série de Fibonacci é formada pela seqüência 1,1,2,3,5,8,13,21,34,55,... (o próximo termo, a partir do terceiro, é sempre gerado a partir do somatório dos últimos dois). Faça um programa capaz de gerar a série até o n−ésimo termo (onde o valor n deve ser inserido pelo usuário).\n",
    "\n",
    "termo = int(input('Qual o tamanho da sequência de Fibonacci você deseja ver: '))\n",
    "v0 = 0\n",
    "v1 = 1\n",
    "v = 1\n",
    "print(1)\n",
    "for i in range(termo + 1):\n",
    "    print(v, end=',')\n",
    "    v0 = v1\n",
    "    v1 = v\n",
    "    v = v1 + v0"
   ]
  },
  {
   "cell_type": "code",
   "execution_count": 2,
   "id": "8505cf6e",
   "metadata": {},
   "outputs": [],
   "source": [
    "#Exercício 5 - Faça um programa que leia e valide as seguintes informações:\n",
    "    #- Nome: maior que 3 caracteres;\n",
    "    #- Idade: entre 0 e 150;\n",
    "    #- Salário: maior que zero;\n",
    "    #- Sexo: 'f' ou 'm';\n",
    "    #- Estado Civil: 's', 'c', 'v', 'd'.\n",
    "nome = input('Digiteo seu nome: ')\n",
    "while len(nome) <= 3:\n",
    "    print('O nome deve conter mais de 3 caracteres!')\n",
    "    nome = input('Digite seu nome: ')\n",
    "\n",
    "idade = int(input('Digite a sua idade: '))\n",
    "while (idade <= 0) or (idade >= 150):\n",
    "    print('A idade deve estar entre 0 e 150!')\n",
    "    idade = int(input('Digite a sua idade: '))\n",
    "\n",
    "salario = float(input('Digite o seu salário: '))\n",
    "while salario <= 0:\n",
    "    print('O salário deve ser maior que 0!')\n",
    "    nome = input('Digite seu salário: ')\n",
    "\n",
    "sexo = input('Digite o seu sexo (f ou m): ').lower()\n",
    "while sexo not in ['m', 'f']:\n",
    "    print('O sexo deve ser \"m\" ou \"f\"!')\n",
    "    nome = input('Digite o seu sexo: ')\n",
    "\n",
    "estado_civil = input('Digite o seu estado civil (s, c, v, d): ').lower()\n",
    "while estado_civil not in ['s', 'c', 'v', 'd']:\n",
    "    print('O estado cívil deve ser s, c, v, d !')\n",
    "    nome = input('Digite o seu estado civil (s, c, v, d): ')\n"
   ]
  },
  {
   "cell_type": "code",
   "execution_count": 33,
   "id": "accda254",
   "metadata": {},
   "outputs": [
    {
     "name": "stdout",
     "output_type": "stream",
     "text": [
      "Não é primo\n"
     ]
    }
   ],
   "source": [
    "#Exercício 6 - Faça um programa que peça um número inteiro e determine se ele é ou não um número primo. Um número primo é aquele que é divisível somente por ele mesmo e por 1.\n",
    "#Dica: Utilize o operador aritmético `%`, que retorna o resto da divisão de dois números.\n",
    "number = int(input('Digite um número: '))\n",
    "check = 0\n",
    "for i in range(2,number):\n",
    "    if number % i == 0:\n",
    "        check = 1\n",
    "        break\n",
    "    \n",
    "if check == 0:\n",
    "    print('É primo')\n",
    "else:\n",
    "    print('Não é primo')"
   ]
  }
 ],
 "metadata": {
  "kernelspec": {
   "display_name": "base",
   "language": "python",
   "name": "python3"
  },
  "language_info": {
   "codemirror_mode": {
    "name": "ipython",
    "version": 3
   },
   "file_extension": ".py",
   "mimetype": "text/x-python",
   "name": "python",
   "nbconvert_exporter": "python",
   "pygments_lexer": "ipython3",
   "version": "3.6.5"
  }
 },
 "nbformat": 4,
 "nbformat_minor": 5
}
