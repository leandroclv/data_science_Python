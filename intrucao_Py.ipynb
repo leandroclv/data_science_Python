{
 "cells": [
  {
   "cell_type": "code",
   "execution_count": 1,
   "id": "8bcefab7",
   "metadata": {},
   "outputs": [],
   "source": [
    "#Numbers"
   ]
  },
  {
   "cell_type": "code",
   "execution_count": 2,
   "id": "ec5e7130",
   "metadata": {},
   "outputs": [
    {
     "data": {
      "text/plain": [
       "3"
      ]
     },
     "execution_count": 2,
     "metadata": {},
     "output_type": "execute_result"
    }
   ],
   "source": [
    "#soma\n",
    "2 + 1"
   ]
  },
  {
   "cell_type": "code",
   "execution_count": 3,
   "id": "912bf646",
   "metadata": {},
   "outputs": [
    {
     "data": {
      "text/plain": [
       "1"
      ]
     },
     "execution_count": 3,
     "metadata": {},
     "output_type": "execute_result"
    }
   ],
   "source": [
    "#Subtração\n",
    "2 - 1"
   ]
  },
  {
   "cell_type": "code",
   "execution_count": 4,
   "id": "a4194c74",
   "metadata": {},
   "outputs": [
    {
     "data": {
      "text/plain": [
       "4"
      ]
     },
     "execution_count": 4,
     "metadata": {},
     "output_type": "execute_result"
    }
   ],
   "source": [
    "#Multiplicação\n",
    "2 * 2"
   ]
  },
  {
   "cell_type": "code",
   "execution_count": 5,
   "id": "317e501d",
   "metadata": {},
   "outputs": [
    {
     "data": {
      "text/plain": [
       "1.0"
      ]
     },
     "execution_count": 5,
     "metadata": {},
     "output_type": "execute_result"
    }
   ],
   "source": [
    "#Divisão\n",
    "2 / 2"
   ]
  },
  {
   "cell_type": "code",
   "execution_count": 6,
   "id": "f8fb9687",
   "metadata": {},
   "outputs": [
    {
     "data": {
      "text/plain": [
       "9"
      ]
     },
     "execution_count": 6,
     "metadata": {},
     "output_type": "execute_result"
    }
   ],
   "source": [
    "#Potenciação\n",
    "3 ** 2"
   ]
  },
  {
   "cell_type": "code",
   "execution_count": 7,
   "id": "8fa1d700",
   "metadata": {},
   "outputs": [
    {
     "data": {
      "text/plain": [
       "2.0"
      ]
     },
     "execution_count": 7,
     "metadata": {},
     "output_type": "execute_result"
    }
   ],
   "source": [
    "#Raiz Quadrada\n",
    "4 ** (1/2)"
   ]
  },
  {
   "cell_type": "code",
   "execution_count": 8,
   "id": "d396976a",
   "metadata": {},
   "outputs": [
    {
     "data": {
      "text/plain": [
       "12"
      ]
     },
     "execution_count": 8,
     "metadata": {},
     "output_type": "execute_result"
    }
   ],
   "source": [
    "2 + 2 + 4 * 2"
   ]
  },
  {
   "cell_type": "code",
   "execution_count": 9,
   "id": "a015907b",
   "metadata": {},
   "outputs": [
    {
     "data": {
      "text/plain": [
       "12"
      ]
     },
     "execution_count": 9,
     "metadata": {},
     "output_type": "execute_result"
    }
   ],
   "source": [
    "(2 + 2) + 4 * 2"
   ]
  },
  {
   "cell_type": "markdown",
   "id": "1a7f94d1",
   "metadata": {},
   "source": [
    "##Variável"
   ]
  },
  {
   "cell_type": "markdown",
   "id": "c89856d1",
   "metadata": {},
   "source": [
    "##1 - Regras para nomes  de variáveis\n",
    "##2 - Deve sempre iniciar com uma letra ou o caractere underline (_)\n",
    "##3 - Pode conter números\n",
    "##4 - simbolos proibidos (\",:</\\|>{}@$%^&+!)\n",
    "##5 - Nunca utilizar palavras reservadas "
   ]
  },
  {
   "cell_type": "code",
   "execution_count": 10,
   "id": "6524af60",
   "metadata": {},
   "outputs": [],
   "source": [
    "a = 5"
   ]
  },
  {
   "cell_type": "code",
   "execution_count": 11,
   "id": "ab2010ac",
   "metadata": {},
   "outputs": [],
   "source": [
    "variavel_1 = 1"
   ]
  },
  {
   "cell_type": "code",
   "execution_count": 12,
   "id": "012e1e8c",
   "metadata": {},
   "outputs": [
    {
     "data": {
      "text/plain": [
       "5"
      ]
     },
     "execution_count": 12,
     "metadata": {},
     "output_type": "execute_result"
    }
   ],
   "source": [
    "a"
   ]
  },
  {
   "cell_type": "code",
   "execution_count": 13,
   "id": "c5278537",
   "metadata": {},
   "outputs": [
    {
     "data": {
      "text/plain": [
       "1"
      ]
     },
     "execution_count": 13,
     "metadata": {},
     "output_type": "execute_result"
    }
   ],
   "source": [
    "variavel_1"
   ]
  },
  {
   "cell_type": "code",
   "execution_count": 14,
   "id": "d92c495e",
   "metadata": {},
   "outputs": [
    {
     "data": {
      "text/plain": [
       "6"
      ]
     },
     "execution_count": 14,
     "metadata": {},
     "output_type": "execute_result"
    }
   ],
   "source": [
    "variavel_1 + a"
   ]
  },
  {
   "cell_type": "code",
   "execution_count": 15,
   "id": "af596c3f",
   "metadata": {},
   "outputs": [],
   "source": [
    "terceira_variavel = variavel_1 + a"
   ]
  },
  {
   "cell_type": "code",
   "execution_count": 16,
   "id": "1b66917e",
   "metadata": {},
   "outputs": [
    {
     "data": {
      "text/plain": [
       "6"
      ]
     },
     "execution_count": 16,
     "metadata": {},
     "output_type": "execute_result"
    }
   ],
   "source": [
    "terceira_variavel"
   ]
  },
  {
   "cell_type": "code",
   "execution_count": 17,
   "id": "f544451d",
   "metadata": {},
   "outputs": [],
   "source": [
    "a = a ** 2"
   ]
  },
  {
   "cell_type": "code",
   "execution_count": 18,
   "id": "f14f92d1",
   "metadata": {},
   "outputs": [
    {
     "data": {
      "text/plain": [
       "25"
      ]
     },
     "execution_count": 18,
     "metadata": {},
     "output_type": "execute_result"
    }
   ],
   "source": [
    "a"
   ]
  },
  {
   "cell_type": "markdown",
   "id": "a111f948",
   "metadata": {},
   "source": [
    "##Strings e indexação"
   ]
  },
  {
   "cell_type": "code",
   "execution_count": 19,
   "id": "697130b8",
   "metadata": {},
   "outputs": [],
   "source": [
    "minha_string = 'Hello'"
   ]
  },
  {
   "cell_type": "code",
   "execution_count": 20,
   "id": "4ff02329",
   "metadata": {},
   "outputs": [
    {
     "data": {
      "text/plain": [
       "'Hello'"
      ]
     },
     "execution_count": 20,
     "metadata": {},
     "output_type": "execute_result"
    }
   ],
   "source": [
    "minha_string"
   ]
  },
  {
   "cell_type": "code",
   "execution_count": 21,
   "id": "1dc821ba",
   "metadata": {},
   "outputs": [],
   "source": [
    "minha_string2 = 'Isto é uma string'"
   ]
  },
  {
   "cell_type": "code",
   "execution_count": 22,
   "id": "e93cf995",
   "metadata": {},
   "outputs": [
    {
     "data": {
      "text/plain": [
       "'Isto é uma string'"
      ]
     },
     "execution_count": 22,
     "metadata": {},
     "output_type": "execute_result"
    }
   ],
   "source": [
    "minha_string2"
   ]
  },
  {
   "cell_type": "code",
   "execution_count": 23,
   "id": "7a17f195",
   "metadata": {},
   "outputs": [],
   "source": [
    "minha_string3 = 'Isto é uma \"aspas\" string'"
   ]
  },
  {
   "cell_type": "code",
   "execution_count": 24,
   "id": "3debfa6a",
   "metadata": {},
   "outputs": [
    {
     "data": {
      "text/plain": [
       "'Isto é uma \"aspas\" string'"
      ]
     },
     "execution_count": 24,
     "metadata": {},
     "output_type": "execute_result"
    }
   ],
   "source": [
    "minha_string3"
   ]
  },
  {
   "cell_type": "code",
   "execution_count": 25,
   "id": "591a5693",
   "metadata": {},
   "outputs": [
    {
     "name": "stdout",
     "output_type": "stream",
     "text": [
      "Isto é uma \"aspas\" string\n"
     ]
    }
   ],
   "source": [
    "#Mostra o que existe na variável\n",
    "print(minha_string3)"
   ]
  },
  {
   "cell_type": "code",
   "execution_count": 26,
   "id": "0ac727e7",
   "metadata": {},
   "outputs": [
    {
     "data": {
      "text/plain": [
       "17"
      ]
     },
     "execution_count": 26,
     "metadata": {},
     "output_type": "execute_result"
    }
   ],
   "source": [
    "#Contagem de caracteres\n",
    "len(minha_string2)"
   ]
  },
  {
   "cell_type": "code",
   "execution_count": 27,
   "id": "b53b289e",
   "metadata": {},
   "outputs": [
    {
     "data": {
      "text/plain": [
       "'Isto é uma stringIsto é uma \"aspas\" string'"
      ]
     },
     "execution_count": 27,
     "metadata": {},
     "output_type": "execute_result"
    }
   ],
   "source": [
    "#Concatenação de string\n",
    "minha_string2 + minha_string3 "
   ]
  },
  {
   "cell_type": "code",
   "execution_count": 28,
   "id": "a5a7d7a9",
   "metadata": {},
   "outputs": [
    {
     "data": {
      "text/plain": [
       "'Isto é uma string e Isto é uma \"aspas\" string'"
      ]
     },
     "execution_count": 28,
     "metadata": {},
     "output_type": "execute_result"
    }
   ],
   "source": [
    "minha_string2 + ' e ' + minha_string3"
   ]
  },
  {
   "cell_type": "code",
   "execution_count": 29,
   "id": "e21f3b2c",
   "metadata": {},
   "outputs": [
    {
     "data": {
      "text/plain": [
       "'t'"
      ]
     },
     "execution_count": 29,
     "metadata": {},
     "output_type": "execute_result"
    }
   ],
   "source": [
    "#Index\n",
    "minha_string2[2]"
   ]
  },
  {
   "cell_type": "code",
   "execution_count": 30,
   "id": "07a9e7c6",
   "metadata": {},
   "outputs": [
    {
     "data": {
      "text/plain": [
       "'ello'"
      ]
     },
     "execution_count": 30,
     "metadata": {},
     "output_type": "execute_result"
    }
   ],
   "source": [
    "minha_string[1:]"
   ]
  },
  {
   "cell_type": "code",
   "execution_count": 31,
   "id": "274c420d",
   "metadata": {},
   "outputs": [
    {
     "data": {
      "text/plain": [
       "'olleH'"
      ]
     },
     "execution_count": 31,
     "metadata": {},
     "output_type": "execute_result"
    }
   ],
   "source": [
    "minha_string[::-1]"
   ]
  },
  {
   "cell_type": "code",
   "execution_count": 32,
   "id": "f5fb09d6",
   "metadata": {},
   "outputs": [
    {
     "data": {
      "text/plain": [
       "'It  m aps tig'"
      ]
     },
     "execution_count": 32,
     "metadata": {},
     "output_type": "execute_result"
    }
   ],
   "source": [
    "minha_string3[::2]"
   ]
  },
  {
   "cell_type": "code",
   "execution_count": 33,
   "id": "8c2346c1",
   "metadata": {},
   "outputs": [
    {
     "data": {
      "text/plain": [
       "'aaaaaaaaaa'"
      ]
     },
     "execution_count": 33,
     "metadata": {},
     "output_type": "execute_result"
    }
   ],
   "source": [
    "'a' * 10"
   ]
  },
  {
   "cell_type": "code",
   "execution_count": 34,
   "id": "e9033975",
   "metadata": {},
   "outputs": [
    {
     "data": {
      "text/plain": [
       "str"
      ]
     },
     "execution_count": 34,
     "metadata": {},
     "output_type": "execute_result"
    }
   ],
   "source": [
    "type('a')"
   ]
  },
  {
   "cell_type": "code",
   "execution_count": 35,
   "id": "27818d29",
   "metadata": {},
   "outputs": [
    {
     "data": {
      "text/plain": [
       "['__add__',\n",
       " '__class__',\n",
       " '__contains__',\n",
       " '__delattr__',\n",
       " '__dir__',\n",
       " '__doc__',\n",
       " '__eq__',\n",
       " '__format__',\n",
       " '__ge__',\n",
       " '__getattribute__',\n",
       " '__getitem__',\n",
       " '__getnewargs__',\n",
       " '__gt__',\n",
       " '__hash__',\n",
       " '__init__',\n",
       " '__init_subclass__',\n",
       " '__iter__',\n",
       " '__le__',\n",
       " '__len__',\n",
       " '__lt__',\n",
       " '__mod__',\n",
       " '__mul__',\n",
       " '__ne__',\n",
       " '__new__',\n",
       " '__reduce__',\n",
       " '__reduce_ex__',\n",
       " '__repr__',\n",
       " '__rmod__',\n",
       " '__rmul__',\n",
       " '__setattr__',\n",
       " '__sizeof__',\n",
       " '__str__',\n",
       " '__subclasshook__',\n",
       " 'capitalize',\n",
       " 'casefold',\n",
       " 'center',\n",
       " 'count',\n",
       " 'encode',\n",
       " 'endswith',\n",
       " 'expandtabs',\n",
       " 'find',\n",
       " 'format',\n",
       " 'format_map',\n",
       " 'index',\n",
       " 'isalnum',\n",
       " 'isalpha',\n",
       " 'isdecimal',\n",
       " 'isdigit',\n",
       " 'isidentifier',\n",
       " 'islower',\n",
       " 'isnumeric',\n",
       " 'isprintable',\n",
       " 'isspace',\n",
       " 'istitle',\n",
       " 'isupper',\n",
       " 'join',\n",
       " 'ljust',\n",
       " 'lower',\n",
       " 'lstrip',\n",
       " 'maketrans',\n",
       " 'partition',\n",
       " 'replace',\n",
       " 'rfind',\n",
       " 'rindex',\n",
       " 'rjust',\n",
       " 'rpartition',\n",
       " 'rsplit',\n",
       " 'rstrip',\n",
       " 'split',\n",
       " 'splitlines',\n",
       " 'startswith',\n",
       " 'strip',\n",
       " 'swapcase',\n",
       " 'title',\n",
       " 'translate',\n",
       " 'upper',\n",
       " 'zfill']"
      ]
     },
     "execution_count": 35,
     "metadata": {},
     "output_type": "execute_result"
    }
   ],
   "source": [
    "dir('Hello')"
   ]
  },
  {
   "cell_type": "code",
   "execution_count": 36,
   "id": "6dd1e532",
   "metadata": {},
   "outputs": [
    {
     "data": {
      "text/plain": [
       "'hello'"
      ]
     },
     "execution_count": 36,
     "metadata": {},
     "output_type": "execute_result"
    }
   ],
   "source": [
    "'Hello'.lower()"
   ]
  },
  {
   "cell_type": "code",
   "execution_count": 37,
   "id": "c35409f2",
   "metadata": {},
   "outputs": [
    {
     "data": {
      "text/plain": [
       "'HELLO'"
      ]
     },
     "execution_count": 37,
     "metadata": {},
     "output_type": "execute_result"
    }
   ],
   "source": [
    "'hello'.upper()"
   ]
  },
  {
   "cell_type": "code",
   "execution_count": 38,
   "id": "580ab02f",
   "metadata": {},
   "outputs": [
    {
     "data": {
      "text/plain": [
       "['hello', 'Leandro']"
      ]
     },
     "execution_count": 38,
     "metadata": {},
     "output_type": "execute_result"
    }
   ],
   "source": [
    "'hello Leandro'.split()"
   ]
  },
  {
   "cell_type": "code",
   "execution_count": 39,
   "id": "7fc606ad",
   "metadata": {},
   "outputs": [
    {
     "data": {
      "text/plain": [
       "['Le', 'ndro']"
      ]
     },
     "execution_count": 39,
     "metadata": {},
     "output_type": "execute_result"
    }
   ],
   "source": [
    "'Leandro'.split('a')"
   ]
  },
  {
   "cell_type": "code",
   "execution_count": 40,
   "id": "bd5d7a27",
   "metadata": {},
   "outputs": [
    {
     "data": {
      "text/plain": [
       "'Idade da pessoa é: 10'"
      ]
     },
     "execution_count": 40,
     "metadata": {},
     "output_type": "execute_result"
    }
   ],
   "source": [
    "idade = 10\n",
    "f'Idade da pessoa é: {idade}'"
   ]
  },
  {
   "cell_type": "markdown",
   "id": "5988ff88",
   "metadata": {},
   "source": [
    "##Listas"
   ]
  },
  {
   "cell_type": "code",
   "execution_count": 41,
   "id": "a47a552c",
   "metadata": {},
   "outputs": [],
   "source": [
    "minh_lista = [1,2,3]"
   ]
  },
  {
   "cell_type": "code",
   "execution_count": 42,
   "id": "bd654278",
   "metadata": {},
   "outputs": [
    {
     "data": {
      "text/plain": [
       "[1, 2, 3]"
      ]
     },
     "execution_count": 42,
     "metadata": {},
     "output_type": "execute_result"
    }
   ],
   "source": [
    "minh_lista"
   ]
  },
  {
   "cell_type": "code",
   "execution_count": 43,
   "id": "4d9d4ebc",
   "metadata": {},
   "outputs": [
    {
     "data": {
      "text/plain": [
       "list"
      ]
     },
     "execution_count": 43,
     "metadata": {},
     "output_type": "execute_result"
    }
   ],
   "source": [
    "type(minh_lista)"
   ]
  },
  {
   "cell_type": "code",
   "execution_count": 44,
   "id": "5784b6b0",
   "metadata": {},
   "outputs": [
    {
     "data": {
      "text/plain": [
       "1"
      ]
     },
     "execution_count": 44,
     "metadata": {},
     "output_type": "execute_result"
    }
   ],
   "source": [
    "minh_lista[0]"
   ]
  },
  {
   "cell_type": "code",
   "execution_count": 45,
   "id": "22a01e2a",
   "metadata": {},
   "outputs": [
    {
     "data": {
      "text/plain": [
       "3"
      ]
     },
     "execution_count": 45,
     "metadata": {},
     "output_type": "execute_result"
    }
   ],
   "source": [
    "minh_lista[-1]"
   ]
  },
  {
   "cell_type": "code",
   "execution_count": 46,
   "id": "aa754b81",
   "metadata": {},
   "outputs": [
    {
     "data": {
      "text/plain": [
       "[2]"
      ]
     },
     "execution_count": 46,
     "metadata": {},
     "output_type": "execute_result"
    }
   ],
   "source": [
    "minh_lista[1:-1]"
   ]
  },
  {
   "cell_type": "code",
   "execution_count": 47,
   "id": "e9fed6cf",
   "metadata": {},
   "outputs": [],
   "source": [
    "minh_lista2 = [1,2,'Hello', [1,2,3]]"
   ]
  },
  {
   "cell_type": "code",
   "execution_count": 48,
   "id": "85251a35",
   "metadata": {},
   "outputs": [
    {
     "data": {
      "text/plain": [
       "[1, 2, 3]"
      ]
     },
     "execution_count": 48,
     "metadata": {},
     "output_type": "execute_result"
    }
   ],
   "source": [
    "minh_lista2[3]"
   ]
  },
  {
   "cell_type": "code",
   "execution_count": 49,
   "id": "9ec0c660",
   "metadata": {},
   "outputs": [
    {
     "data": {
      "text/plain": [
       "[2, 3]"
      ]
     },
     "execution_count": 49,
     "metadata": {},
     "output_type": "execute_result"
    }
   ],
   "source": [
    "minh_lista2[3][1:]"
   ]
  },
  {
   "cell_type": "code",
   "execution_count": 50,
   "id": "a506d11c",
   "metadata": {},
   "outputs": [
    {
     "data": {
      "text/plain": [
       "'HELLO'"
      ]
     },
     "execution_count": 50,
     "metadata": {},
     "output_type": "execute_result"
    }
   ],
   "source": [
    "minh_lista2[2].upper()"
   ]
  },
  {
   "cell_type": "code",
   "execution_count": 51,
   "id": "a8a91a36",
   "metadata": {},
   "outputs": [
    {
     "data": {
      "text/plain": [
       "[1, 2, 'Hello', [1, 2, 3], 3]"
      ]
     },
     "execution_count": 51,
     "metadata": {},
     "output_type": "execute_result"
    }
   ],
   "source": [
    "minh_lista2 + [3]"
   ]
  },
  {
   "cell_type": "code",
   "execution_count": 52,
   "id": "23af4565",
   "metadata": {},
   "outputs": [
    {
     "data": {
      "text/plain": [
       "[1, 2, 'Hello', [1, 2, 3], 1, 2, 'Hello', [1, 2, 3]]"
      ]
     },
     "execution_count": 52,
     "metadata": {},
     "output_type": "execute_result"
    }
   ],
   "source": [
    "minh_lista2 * 2"
   ]
  },
  {
   "cell_type": "code",
   "execution_count": 53,
   "id": "c3f62f0b",
   "metadata": {},
   "outputs": [],
   "source": [
    "#Métodos básicos de listas"
   ]
  },
  {
   "cell_type": "code",
   "execution_count": 54,
   "id": "c49587b2",
   "metadata": {},
   "outputs": [],
   "source": [
    "l = [1,2,3]"
   ]
  },
  {
   "cell_type": "code",
   "execution_count": 55,
   "id": "eac04e6f",
   "metadata": {},
   "outputs": [],
   "source": [
    "l.append('4')"
   ]
  },
  {
   "cell_type": "code",
   "execution_count": 56,
   "id": "92a34e04",
   "metadata": {},
   "outputs": [
    {
     "data": {
      "text/plain": [
       "[1, 2, 3, '4']"
      ]
     },
     "execution_count": 56,
     "metadata": {},
     "output_type": "execute_result"
    }
   ],
   "source": [
    "l"
   ]
  },
  {
   "cell_type": "code",
   "execution_count": 57,
   "id": "9b01cf05",
   "metadata": {},
   "outputs": [],
   "source": [
    "l.append(4)"
   ]
  },
  {
   "cell_type": "code",
   "execution_count": 58,
   "id": "8dc67ec2",
   "metadata": {},
   "outputs": [
    {
     "data": {
      "text/plain": [
       "[1, 2, 3, '4', 4]"
      ]
     },
     "execution_count": 58,
     "metadata": {},
     "output_type": "execute_result"
    }
   ],
   "source": [
    "l"
   ]
  },
  {
   "cell_type": "code",
   "execution_count": 59,
   "id": "0f402a66",
   "metadata": {},
   "outputs": [
    {
     "data": {
      "text/plain": [
       "4"
      ]
     },
     "execution_count": 59,
     "metadata": {},
     "output_type": "execute_result"
    }
   ],
   "source": [
    "l.pop() #Retira o últimoelemento e retorna ele"
   ]
  },
  {
   "cell_type": "code",
   "execution_count": 60,
   "id": "8a6e3d55",
   "metadata": {},
   "outputs": [
    {
     "data": {
      "text/plain": [
       "[1, 2, 3, '4']"
      ]
     },
     "execution_count": 60,
     "metadata": {},
     "output_type": "execute_result"
    }
   ],
   "source": [
    "l"
   ]
  },
  {
   "cell_type": "code",
   "execution_count": 61,
   "id": "13ffe61d",
   "metadata": {},
   "outputs": [],
   "source": [
    "new_list = ['a','b','c','d']"
   ]
  },
  {
   "cell_type": "code",
   "execution_count": 62,
   "id": "08731e7f",
   "metadata": {},
   "outputs": [],
   "source": [
    "new_list.reverse()"
   ]
  },
  {
   "cell_type": "code",
   "execution_count": 63,
   "id": "e48a337c",
   "metadata": {},
   "outputs": [
    {
     "data": {
      "text/plain": [
       "['d', 'c', 'b', 'a']"
      ]
     },
     "execution_count": 63,
     "metadata": {},
     "output_type": "execute_result"
    }
   ],
   "source": [
    "new_list"
   ]
  },
  {
   "cell_type": "code",
   "execution_count": 64,
   "id": "da39a073",
   "metadata": {},
   "outputs": [],
   "source": [
    "new_list.sort()"
   ]
  },
  {
   "cell_type": "code",
   "execution_count": 65,
   "id": "81bd0b33",
   "metadata": {},
   "outputs": [
    {
     "data": {
      "text/plain": [
       "['a', 'b', 'c', 'd']"
      ]
     },
     "execution_count": 65,
     "metadata": {},
     "output_type": "execute_result"
    }
   ],
   "source": [
    "new_list"
   ]
  },
  {
   "cell_type": "code",
   "execution_count": 66,
   "id": "c5d78016",
   "metadata": {},
   "outputs": [],
   "source": [
    "list1 = [1,2,3]\n",
    "list2= [4,5,6]\n",
    "list3 = [7,8,9]"
   ]
  },
  {
   "cell_type": "code",
   "execution_count": 67,
   "id": "fe0c4f60",
   "metadata": {},
   "outputs": [],
   "source": [
    "list4 = [list1, list2, list3]"
   ]
  },
  {
   "cell_type": "code",
   "execution_count": 68,
   "id": "c2efad52",
   "metadata": {},
   "outputs": [
    {
     "data": {
      "text/plain": [
       "[[1, 2, 3], [4, 5, 6], [7, 8, 9]]"
      ]
     },
     "execution_count": 68,
     "metadata": {},
     "output_type": "execute_result"
    }
   ],
   "source": [
    "list4"
   ]
  },
  {
   "cell_type": "code",
   "execution_count": 69,
   "id": "68335a1c",
   "metadata": {},
   "outputs": [
    {
     "data": {
      "text/plain": [
       "1"
      ]
     },
     "execution_count": 69,
     "metadata": {},
     "output_type": "execute_result"
    }
   ],
   "source": [
    "list4[0][0]"
   ]
  },
  {
   "cell_type": "code",
   "execution_count": 70,
   "id": "83129396",
   "metadata": {},
   "outputs": [
    {
     "data": {
      "text/plain": [
       "7"
      ]
     },
     "execution_count": 70,
     "metadata": {},
     "output_type": "execute_result"
    }
   ],
   "source": [
    "list4[2][0]"
   ]
  },
  {
   "cell_type": "code",
   "execution_count": 71,
   "id": "9fa365c2",
   "metadata": {},
   "outputs": [
    {
     "data": {
      "text/plain": [
       "[2, 'Hello', [1, 2, 3]]"
      ]
     },
     "execution_count": 71,
     "metadata": {},
     "output_type": "execute_result"
    }
   ],
   "source": [
    "minh_lista2[-3:]"
   ]
  },
  {
   "cell_type": "markdown",
   "id": "7601733d",
   "metadata": {},
   "source": [
    "##Dicionários"
   ]
  },
  {
   "cell_type": "code",
   "execution_count": 72,
   "id": "3de150a9",
   "metadata": {},
   "outputs": [],
   "source": [
    "#chave: valor\n",
    "meu_dicionario = {'nome': 'Leandro', 'idade': 29, 'filhos': ['João', 'Maria']}"
   ]
  },
  {
   "cell_type": "code",
   "execution_count": 73,
   "id": "2dfeece8",
   "metadata": {},
   "outputs": [
    {
     "data": {
      "text/plain": [
       "{'nome': 'Leandro', 'idade': 29, 'filhos': ['João', 'Maria']}"
      ]
     },
     "execution_count": 73,
     "metadata": {},
     "output_type": "execute_result"
    }
   ],
   "source": [
    "meu_dicionario"
   ]
  },
  {
   "cell_type": "code",
   "execution_count": 74,
   "id": "a83c7531",
   "metadata": {},
   "outputs": [
    {
     "data": {
      "text/plain": [
       "'Leandro'"
      ]
     },
     "execution_count": 74,
     "metadata": {},
     "output_type": "execute_result"
    }
   ],
   "source": [
    "meu_dicionario['nome']"
   ]
  },
  {
   "cell_type": "code",
   "execution_count": 75,
   "id": "8ad0ba2c",
   "metadata": {},
   "outputs": [],
   "source": [
    "meu_dicionario['idade'] = 39"
   ]
  },
  {
   "cell_type": "code",
   "execution_count": 76,
   "id": "6aab3dfe",
   "metadata": {},
   "outputs": [
    {
     "data": {
      "text/plain": [
       "{'nome': 'Leandro', 'idade': 39, 'filhos': ['João', 'Maria']}"
      ]
     },
     "execution_count": 76,
     "metadata": {},
     "output_type": "execute_result"
    }
   ],
   "source": [
    "meu_dicionario"
   ]
  },
  {
   "cell_type": "code",
   "execution_count": 77,
   "id": "c049eae3",
   "metadata": {},
   "outputs": [],
   "source": [
    "meu_dicionario['cidade'] = 'Crato'"
   ]
  },
  {
   "cell_type": "code",
   "execution_count": 78,
   "id": "e6eaae85",
   "metadata": {},
   "outputs": [
    {
     "data": {
      "text/plain": [
       "{'nome': 'Leandro',\n",
       " 'idade': 39,\n",
       " 'filhos': ['João', 'Maria'],\n",
       " 'cidade': 'Crato'}"
      ]
     },
     "execution_count": 78,
     "metadata": {},
     "output_type": "execute_result"
    }
   ],
   "source": [
    "meu_dicionario"
   ]
  },
  {
   "cell_type": "code",
   "execution_count": 79,
   "id": "da12ab47",
   "metadata": {},
   "outputs": [],
   "source": [
    "meu_dicionario['variavel aleatoria'] = {'a':1, 'b':2}"
   ]
  },
  {
   "cell_type": "code",
   "execution_count": 80,
   "id": "b263d141",
   "metadata": {},
   "outputs": [
    {
     "data": {
      "text/plain": [
       "{'nome': 'Leandro',\n",
       " 'idade': 39,\n",
       " 'filhos': ['João', 'Maria'],\n",
       " 'cidade': 'Crato',\n",
       " 'variavel aleatoria': {'a': 1, 'b': 2}}"
      ]
     },
     "execution_count": 80,
     "metadata": {},
     "output_type": "execute_result"
    }
   ],
   "source": [
    "meu_dicionario"
   ]
  },
  {
   "cell_type": "code",
   "execution_count": 81,
   "id": "aaffcb75",
   "metadata": {},
   "outputs": [
    {
     "data": {
      "text/plain": [
       "dict_keys(['nome', 'idade', 'filhos', 'cidade', 'variavel aleatoria'])"
      ]
     },
     "execution_count": 81,
     "metadata": {},
     "output_type": "execute_result"
    }
   ],
   "source": [
    "meu_dicionario.keys()"
   ]
  },
  {
   "cell_type": "code",
   "execution_count": 82,
   "id": "18a0592b",
   "metadata": {},
   "outputs": [
    {
     "data": {
      "text/plain": [
       "dict_values(['Leandro', 39, ['João', 'Maria'], 'Crato', {'a': 1, 'b': 2}])"
      ]
     },
     "execution_count": 82,
     "metadata": {},
     "output_type": "execute_result"
    }
   ],
   "source": [
    "meu_dicionario.values()"
   ]
  },
  {
   "cell_type": "code",
   "execution_count": 83,
   "id": "5e04a832",
   "metadata": {},
   "outputs": [
    {
     "data": {
      "text/plain": [
       "dict_items([('nome', 'Leandro'), ('idade', 39), ('filhos', ['João', 'Maria']), ('cidade', 'Crato'), ('variavel aleatoria', {'a': 1, 'b': 2})])"
      ]
     },
     "execution_count": 83,
     "metadata": {},
     "output_type": "execute_result"
    }
   ],
   "source": [
    "meu_dicionario.items()"
   ]
  },
  {
   "cell_type": "markdown",
   "id": "90defcfd",
   "metadata": {},
   "source": [
    "##Tuplas"
   ]
  },
  {
   "cell_type": "code",
   "execution_count": 84,
   "id": "2cc9bd97",
   "metadata": {},
   "outputs": [],
   "source": [
    "t = (1,2,3)"
   ]
  },
  {
   "cell_type": "code",
   "execution_count": 85,
   "id": "a5d02d7a",
   "metadata": {},
   "outputs": [
    {
     "data": {
      "text/plain": [
       "(1, 2, 3)"
      ]
     },
     "execution_count": 85,
     "metadata": {},
     "output_type": "execute_result"
    }
   ],
   "source": [
    "t"
   ]
  },
  {
   "cell_type": "code",
   "execution_count": 86,
   "id": "126d56aa",
   "metadata": {},
   "outputs": [
    {
     "data": {
      "text/plain": [
       "(1, 2, 3)"
      ]
     },
     "execution_count": 86,
     "metadata": {},
     "output_type": "execute_result"
    }
   ],
   "source": [
    "t[:]"
   ]
  },
  {
   "cell_type": "code",
   "execution_count": 87,
   "id": "72941c05",
   "metadata": {},
   "outputs": [
    {
     "data": {
      "text/plain": [
       "(1, 2)"
      ]
     },
     "execution_count": 87,
     "metadata": {},
     "output_type": "execute_result"
    }
   ],
   "source": [
    "t[:-1]"
   ]
  },
  {
   "cell_type": "code",
   "execution_count": 88,
   "id": "e326ed1e",
   "metadata": {},
   "outputs": [],
   "source": [
    "a,b =(1,2)"
   ]
  },
  {
   "cell_type": "code",
   "execution_count": 89,
   "id": "c1cd8355",
   "metadata": {},
   "outputs": [
    {
     "data": {
      "text/plain": [
       "1"
      ]
     },
     "execution_count": 89,
     "metadata": {},
     "output_type": "execute_result"
    }
   ],
   "source": [
    "a"
   ]
  },
  {
   "cell_type": "code",
   "execution_count": 90,
   "id": "80696a30",
   "metadata": {},
   "outputs": [
    {
     "data": {
      "text/plain": [
       "2"
      ]
     },
     "execution_count": 90,
     "metadata": {},
     "output_type": "execute_result"
    }
   ],
   "source": [
    "b"
   ]
  },
  {
   "cell_type": "markdown",
   "id": "844a8694",
   "metadata": {},
   "source": [
    "##Input, Sets e Booleanos"
   ]
  },
  {
   "cell_type": "code",
   "execution_count": null,
   "id": "be25cdf5",
   "metadata": {},
   "outputs": [],
   "source": [
    "a = input()"
   ]
  },
  {
   "cell_type": "code",
   "execution_count": null,
   "id": "e564675d",
   "metadata": {},
   "outputs": [
    {
     "data": {
      "text/plain": [
       "'123'"
      ]
     },
     "execution_count": 6,
     "metadata": {},
     "output_type": "execute_result"
    }
   ],
   "source": [
    "a"
   ]
  },
  {
   "cell_type": "code",
   "execution_count": null,
   "id": "f415a354",
   "metadata": {},
   "outputs": [
    {
     "data": {
      "text/plain": [
       "str"
      ]
     },
     "execution_count": 8,
     "metadata": {},
     "output_type": "execute_result"
    }
   ],
   "source": [
    "type(a)"
   ]
  },
  {
   "cell_type": "code",
   "execution_count": null,
   "id": "7755da94",
   "metadata": {},
   "outputs": [],
   "source": [
    "#Set é uma lista em que não se aceita elementos repetidos\n",
    "x = set()"
   ]
  },
  {
   "cell_type": "code",
   "execution_count": null,
   "id": "e8115e0b",
   "metadata": {},
   "outputs": [],
   "source": [
    "x.add(1)"
   ]
  },
  {
   "cell_type": "code",
   "execution_count": null,
   "id": "6ffc4843",
   "metadata": {},
   "outputs": [],
   "source": [
    "x.add(2)"
   ]
  },
  {
   "cell_type": "code",
   "execution_count": null,
   "id": "5e33c58c",
   "metadata": {},
   "outputs": [],
   "source": [
    "x.add(4)"
   ]
  },
  {
   "cell_type": "code",
   "execution_count": null,
   "id": "0deaeafb",
   "metadata": {},
   "outputs": [
    {
     "data": {
      "text/plain": [
       "{1, 2, 4}"
      ]
     },
     "execution_count": 13,
     "metadata": {},
     "output_type": "execute_result"
    }
   ],
   "source": [
    "x"
   ]
  },
  {
   "cell_type": "code",
   "execution_count": null,
   "id": "6dcfa6a4",
   "metadata": {},
   "outputs": [],
   "source": [
    "x.add(2)"
   ]
  },
  {
   "cell_type": "code",
   "execution_count": null,
   "id": "4d68715b",
   "metadata": {},
   "outputs": [
    {
     "data": {
      "text/plain": [
       "{1, 2, 4}"
      ]
     },
     "execution_count": 15,
     "metadata": {},
     "output_type": "execute_result"
    }
   ],
   "source": [
    "x"
   ]
  },
  {
   "cell_type": "code",
   "execution_count": null,
   "id": "58fc7105",
   "metadata": {},
   "outputs": [],
   "source": [
    "l = [1,2,3,4,4,4,5,5,5]"
   ]
  },
  {
   "cell_type": "code",
   "execution_count": null,
   "id": "84a955ef",
   "metadata": {},
   "outputs": [],
   "source": [
    "l1 = set(l)"
   ]
  },
  {
   "cell_type": "code",
   "execution_count": null,
   "id": "16a5fbb7",
   "metadata": {},
   "outputs": [
    {
     "data": {
      "text/plain": [
       "{1, 2, 3, 4, 5}"
      ]
     },
     "execution_count": 18,
     "metadata": {},
     "output_type": "execute_result"
    }
   ],
   "source": [
    "l1"
   ]
  },
  {
   "cell_type": "code",
   "execution_count": null,
   "id": "d85d9cc3",
   "metadata": {},
   "outputs": [
    {
     "data": {
      "text/plain": [
       "{1, 2, 3, 4, 5}"
      ]
     },
     "execution_count": 19,
     "metadata": {},
     "output_type": "execute_result"
    }
   ],
   "source": [
    "x.union(l1)"
   ]
  },
  {
   "cell_type": "code",
   "execution_count": null,
   "id": "1f85c048",
   "metadata": {},
   "outputs": [
    {
     "data": {
      "text/plain": [
       "{1, 2, 4}"
      ]
     },
     "execution_count": 20,
     "metadata": {},
     "output_type": "execute_result"
    }
   ],
   "source": [
    "x.intersection(l1)"
   ]
  },
  {
   "cell_type": "code",
   "execution_count": null,
   "id": "2c9e59ea",
   "metadata": {},
   "outputs": [
    {
     "data": {
      "text/plain": [
       "set()"
      ]
     },
     "execution_count": 21,
     "metadata": {},
     "output_type": "execute_result"
    }
   ],
   "source": [
    "x.difference(l1)"
   ]
  },
  {
   "cell_type": "code",
   "execution_count": null,
   "id": "187cc2ea",
   "metadata": {},
   "outputs": [
    {
     "data": {
      "text/plain": [
       "{3, 5}"
      ]
     },
     "execution_count": 22,
     "metadata": {},
     "output_type": "execute_result"
    }
   ],
   "source": [
    "l1.difference(x)"
   ]
  },
  {
   "cell_type": "code",
   "execution_count": null,
   "id": "e6343056",
   "metadata": {},
   "outputs": [],
   "source": [
    "a = True"
   ]
  },
  {
   "cell_type": "code",
   "execution_count": null,
   "id": "0e386ac8",
   "metadata": {},
   "outputs": [],
   "source": [
    "b = False"
   ]
  },
  {
   "cell_type": "code",
   "execution_count": null,
   "id": "89155e92",
   "metadata": {},
   "outputs": [
    {
     "data": {
      "text/plain": [
       "False"
      ]
     },
     "execution_count": 25,
     "metadata": {},
     "output_type": "execute_result"
    }
   ],
   "source": [
    "1 > 2"
   ]
  },
  {
   "cell_type": "code",
   "execution_count": null,
   "id": "ae3befc0",
   "metadata": {},
   "outputs": [
    {
     "data": {
      "text/plain": [
       "bool"
      ]
     },
     "execution_count": 26,
     "metadata": {},
     "output_type": "execute_result"
    }
   ],
   "source": [
    "type(a)"
   ]
  },
  {
   "cell_type": "code",
   "execution_count": null,
   "id": "2a7dbef7",
   "metadata": {},
   "outputs": [],
   "source": [
    "c = [1,2,2,3,4,5,5,5,6,6,7]"
   ]
  },
  {
   "cell_type": "code",
   "execution_count": null,
   "id": "066caf49",
   "metadata": {},
   "outputs": [
    {
     "data": {
      "text/plain": [
       "{1, 2, 3, 4, 5, 6, 7}"
      ]
     },
     "execution_count": 28,
     "metadata": {},
     "output_type": "execute_result"
    }
   ],
   "source": [
    "set(c)"
   ]
  },
  {
   "cell_type": "markdown",
   "id": "797661c1",
   "metadata": {},
   "source": [
    "##Operadores de comparação"
   ]
  },
  {
   "cell_type": "code",
   "execution_count": null,
   "id": "7054ceef",
   "metadata": {},
   "outputs": [],
   "source": [
    "#Igualdade\n",
    "a = 1 #(Atribuição)"
   ]
  },
  {
   "cell_type": "code",
   "execution_count": null,
   "id": "73ac707a",
   "metadata": {},
   "outputs": [
    {
     "data": {
      "text/plain": [
       "True"
      ]
     },
     "execution_count": 2,
     "metadata": {},
     "output_type": "execute_result"
    }
   ],
   "source": [
    "2 == 2 #(comparação)"
   ]
  },
  {
   "cell_type": "code",
   "execution_count": 3,
   "id": "8d2c0590",
   "metadata": {},
   "outputs": [
    {
     "data": {
      "text/plain": [
       "False"
      ]
     },
     "execution_count": 3,
     "metadata": {},
     "output_type": "execute_result"
    }
   ],
   "source": [
    "1 == 0"
   ]
  },
  {
   "cell_type": "code",
   "execution_count": 4,
   "id": "3bc2d4a9",
   "metadata": {},
   "outputs": [
    {
     "data": {
      "text/plain": [
       "True"
      ]
     },
     "execution_count": 4,
     "metadata": {},
     "output_type": "execute_result"
    }
   ],
   "source": [
    "#Desiguadade\n",
    "2 != 1"
   ]
  },
  {
   "cell_type": "code",
   "execution_count": 5,
   "id": "a7a4682e",
   "metadata": {},
   "outputs": [
    {
     "data": {
      "text/plain": [
       "False"
      ]
     },
     "execution_count": 5,
     "metadata": {},
     "output_type": "execute_result"
    }
   ],
   "source": [
    "2 != 2"
   ]
  },
  {
   "cell_type": "code",
   "execution_count": null,
   "id": "1c849cae",
   "metadata": {},
   "outputs": [
    {
     "data": {
      "text/plain": [
       "False"
      ]
     },
     "execution_count": 7,
     "metadata": {},
     "output_type": "execute_result"
    }
   ],
   "source": [
    "#Maior que \n",
    "2 > 2"
   ]
  },
  {
   "cell_type": "code",
   "execution_count": 8,
   "id": "1e06e210",
   "metadata": {},
   "outputs": [
    {
     "data": {
      "text/plain": [
       "False"
      ]
     },
     "execution_count": 8,
     "metadata": {},
     "output_type": "execute_result"
    }
   ],
   "source": [
    "2 > 4"
   ]
  },
  {
   "cell_type": "code",
   "execution_count": 9,
   "id": "a0fe5851",
   "metadata": {},
   "outputs": [
    {
     "data": {
      "text/plain": [
       "True"
      ]
     },
     "execution_count": 9,
     "metadata": {},
     "output_type": "execute_result"
    }
   ],
   "source": [
    "#Menor que\n",
    "2 < 4"
   ]
  },
  {
   "cell_type": "code",
   "execution_count": 10,
   "id": "456c99dc",
   "metadata": {},
   "outputs": [
    {
     "data": {
      "text/plain": [
       "False"
      ]
     },
     "execution_count": 10,
     "metadata": {},
     "output_type": "execute_result"
    }
   ],
   "source": [
    "2 < 1"
   ]
  },
  {
   "cell_type": "code",
   "execution_count": 11,
   "id": "8050246f",
   "metadata": {},
   "outputs": [
    {
     "data": {
      "text/plain": [
       "True"
      ]
     },
     "execution_count": 11,
     "metadata": {},
     "output_type": "execute_result"
    }
   ],
   "source": [
    "#Maior ou igual que\n",
    "2 >= 2"
   ]
  },
  {
   "cell_type": "code",
   "execution_count": 12,
   "id": "5703ffdd",
   "metadata": {},
   "outputs": [
    {
     "data": {
      "text/plain": [
       "True"
      ]
     },
     "execution_count": 12,
     "metadata": {},
     "output_type": "execute_result"
    }
   ],
   "source": [
    "2 >= 1"
   ]
  },
  {
   "cell_type": "code",
   "execution_count": 13,
   "id": "8ad2e682",
   "metadata": {},
   "outputs": [
    {
     "data": {
      "text/plain": [
       "True"
      ]
     },
     "execution_count": 13,
     "metadata": {},
     "output_type": "execute_result"
    }
   ],
   "source": [
    "#Menor ou igual que \n",
    "2 <= 2"
   ]
  },
  {
   "cell_type": "code",
   "execution_count": 15,
   "id": "30580e47",
   "metadata": {},
   "outputs": [
    {
     "data": {
      "text/plain": [
       "True"
      ]
     },
     "execution_count": 15,
     "metadata": {},
     "output_type": "execute_result"
    }
   ],
   "source": [
    "2 <= 4"
   ]
  },
  {
   "cell_type": "markdown",
   "id": "b5e185c6",
   "metadata": {},
   "source": [
    "##Exercícios #1 - Estruturas de dados"
   ]
  },
  {
   "cell_type": "code",
   "execution_count": null,
   "id": "8bd0ca79",
   "metadata": {},
   "outputs": [
    {
     "name": "stdout",
     "output_type": "stream",
     "text": [
      "Olá Leandro, o seu IMC possui o valor de: 22.20Kg/m2\n"
     ]
    }
   ],
   "source": [
    "#Exercício 1 - Utilizando o buit-in method input(), crie um programa que receba a altura e o peso de uma pessoa e imprima na tela o IMC da mesma\n",
    "nome = input('Insira seu nome: ').capitalize()\n",
    "altura = float(input('Digite a sua altura em m: '))\n",
    "peso = float(input('Digite o seu peso: '))\n",
    "imc = peso/(altura**2)\n",
    "print(f'Olá {nome}, o seu IMC possui o valor de: {imc:.2f}Kg/m2')"
   ]
  },
  {
   "cell_type": "code",
   "execution_count": 3,
   "id": "fe7cd6a0",
   "metadata": {},
   "outputs": [
    {
     "name": "stdout",
     "output_type": "stream",
     "text": [
      "olá Leandro como vai?\n"
     ]
    }
   ],
   "source": [
    "#Exercício 2 - Escreva um programa que pergunte o nome completo do usuário e cumprimente o mesmo pelo primeiro nome\n",
    "nome_completo = input('Digite o seu nome completo: ').capitalize()\n",
    "first_name = nome_completo.split(' ')\n",
    "print(f'olá {first_name[0]} como vai?')"
   ]
  },
  {
   "cell_type": "code",
   "execution_count": 4,
   "id": "e96ae790",
   "metadata": {},
   "outputs": [
    {
     "name": "stdout",
     "output_type": "stream",
     "text": [
      "O dominio do seu email é: leandroclv\n"
     ]
    }
   ],
   "source": [
    "#Exercício 3 - Desenhe um código que extraia o domínio deum e-mail informado\n",
    "email = input('Digite o seu email completo')\n",
    "dominio = email.split('@')\n",
    "print(f'O dominio do seu email é: {dominio[0]}')"
   ]
  },
  {
   "cell_type": "code",
   "execution_count": 5,
   "id": "8ebefd8f",
   "metadata": {},
   "outputs": [],
   "source": [
    "#Exercício 4 - Faça um programa para uma loja de tintas. A pessoa informa a área em m2 que deseja pintar, e o script calculará a quantidade de latas de tinta que a pessoa deve comprar e o valor. Considere que cada litro de tinta pinta 3m2, que cada lata contém 18L e que custa R$ 80."
   ]
  },
  {
   "cell_type": "code",
   "execution_count": null,
   "id": "235a33d9",
   "metadata": {},
   "outputs": [],
   "source": [
    "#Exercício 5 - Faça um Programa que pergunte quanto você ganha por hora e o número de horas trabalhadas no mês. Calcule e mostre o total do seu salário no referido mês, sabendo-se que são descontados 11% para o Imposto de Renda, 8% para o INSS e 5% para o sindicato, faça um programa que nos dê: 1. Salário bruto. 2. Quanto pagou ao INSS. 3. Quanto pagou ao sindicato. 4. O salário líquido.\""
   ]
  }
 ],
 "metadata": {
  "kernelspec": {
   "display_name": "base",
   "language": "python",
   "name": "python3"
  },
  "language_info": {
   "codemirror_mode": {
    "name": "ipython",
    "version": 3
   },
   "file_extension": ".py",
   "mimetype": "text/x-python",
   "name": "python",
   "nbconvert_exporter": "python",
   "pygments_lexer": "ipython3",
   "version": "3.6.5"
  }
 },
 "nbformat": 4,
 "nbformat_minor": 5
}
