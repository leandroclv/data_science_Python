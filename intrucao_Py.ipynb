{
 "cells": [
  {
   "cell_type": "code",
   "execution_count": null,
   "id": "8bcefab7",
   "metadata": {},
   "outputs": [],
   "source": [
    "#Numbers"
   ]
  },
  {
   "cell_type": "code",
   "execution_count": null,
   "id": "ec5e7130",
   "metadata": {},
   "outputs": [
    {
     "data": {
      "text/plain": [
       "3"
      ]
     },
     "execution_count": 2,
     "metadata": {},
     "output_type": "execute_result"
    }
   ],
   "source": [
    "#soma\n",
    "2 + 1"
   ]
  },
  {
   "cell_type": "code",
   "execution_count": null,
   "id": "912bf646",
   "metadata": {},
   "outputs": [
    {
     "data": {
      "text/plain": [
       "1"
      ]
     },
     "execution_count": 3,
     "metadata": {},
     "output_type": "execute_result"
    }
   ],
   "source": [
    "#Subtração\n",
    "2 - 1"
   ]
  },
  {
   "cell_type": "code",
   "execution_count": null,
   "id": "a4194c74",
   "metadata": {},
   "outputs": [
    {
     "data": {
      "text/plain": [
       "4"
      ]
     },
     "execution_count": 4,
     "metadata": {},
     "output_type": "execute_result"
    }
   ],
   "source": [
    "#Multiplicação\n",
    "2 * 2"
   ]
  },
  {
   "cell_type": "code",
   "execution_count": null,
   "id": "317e501d",
   "metadata": {},
   "outputs": [
    {
     "data": {
      "text/plain": [
       "1.0"
      ]
     },
     "execution_count": 5,
     "metadata": {},
     "output_type": "execute_result"
    }
   ],
   "source": [
    "#Divisão\n",
    "2 / 2"
   ]
  },
  {
   "cell_type": "code",
   "execution_count": null,
   "id": "f8fb9687",
   "metadata": {},
   "outputs": [
    {
     "data": {
      "text/plain": [
       "9"
      ]
     },
     "execution_count": 6,
     "metadata": {},
     "output_type": "execute_result"
    }
   ],
   "source": [
    "#Potenciação\n",
    "3 ** 2"
   ]
  },
  {
   "cell_type": "code",
   "execution_count": null,
   "id": "8fa1d700",
   "metadata": {},
   "outputs": [
    {
     "data": {
      "text/plain": [
       "2.0"
      ]
     },
     "execution_count": 7,
     "metadata": {},
     "output_type": "execute_result"
    }
   ],
   "source": [
    "#Raiz Quadrada\n",
    "4 ** (1/2)"
   ]
  },
  {
   "cell_type": "code",
   "execution_count": 8,
   "id": "d396976a",
   "metadata": {},
   "outputs": [
    {
     "data": {
      "text/plain": [
       "12"
      ]
     },
     "execution_count": 8,
     "metadata": {},
     "output_type": "execute_result"
    }
   ],
   "source": [
    "2 + 2 + 4 * 2"
   ]
  },
  {
   "cell_type": "code",
   "execution_count": 9,
   "id": "a015907b",
   "metadata": {},
   "outputs": [
    {
     "data": {
      "text/plain": [
       "12"
      ]
     },
     "execution_count": 9,
     "metadata": {},
     "output_type": "execute_result"
    }
   ],
   "source": [
    "(2 + 2) + 4 * 2"
   ]
  },
  {
   "cell_type": "markdown",
   "id": "1a7f94d1",
   "metadata": {},
   "source": [
    "##Variável"
   ]
  },
  {
   "cell_type": "code",
   "execution_count": 4,
   "id": "6524af60",
   "metadata": {},
   "outputs": [],
   "source": [
    "a = 5"
   ]
  },
  {
   "cell_type": "code",
   "execution_count": 5,
   "id": "ab2010ac",
   "metadata": {},
   "outputs": [],
   "source": [
    "variavel_1 = 1"
   ]
  },
  {
   "cell_type": "code",
   "execution_count": 6,
   "id": "012e1e8c",
   "metadata": {},
   "outputs": [
    {
     "data": {
      "text/plain": [
       "5"
      ]
     },
     "execution_count": 6,
     "metadata": {},
     "output_type": "execute_result"
    }
   ],
   "source": [
    "a"
   ]
  },
  {
   "cell_type": "code",
   "execution_count": 7,
   "id": "c5278537",
   "metadata": {},
   "outputs": [
    {
     "data": {
      "text/plain": [
       "1"
      ]
     },
     "execution_count": 7,
     "metadata": {},
     "output_type": "execute_result"
    }
   ],
   "source": [
    "variavel_1"
   ]
  },
  {
   "cell_type": "code",
   "execution_count": 8,
   "id": "d92c495e",
   "metadata": {},
   "outputs": [
    {
     "data": {
      "text/plain": [
       "6"
      ]
     },
     "execution_count": 8,
     "metadata": {},
     "output_type": "execute_result"
    }
   ],
   "source": [
    "variavel_1 + a"
   ]
  },
  {
   "cell_type": "code",
   "execution_count": 9,
   "id": "af596c3f",
   "metadata": {},
   "outputs": [],
   "source": [
    "terceira_variavel = variavel_1 + a"
   ]
  },
  {
   "cell_type": "code",
   "execution_count": 10,
   "id": "1b66917e",
   "metadata": {},
   "outputs": [
    {
     "data": {
      "text/plain": [
       "6"
      ]
     },
     "execution_count": 10,
     "metadata": {},
     "output_type": "execute_result"
    }
   ],
   "source": [
    "terceira_variavel"
   ]
  },
  {
   "cell_type": "code",
   "execution_count": 11,
   "id": "f544451d",
   "metadata": {},
   "outputs": [],
   "source": [
    "a = a ** 2"
   ]
  },
  {
   "cell_type": "code",
   "execution_count": 12,
   "id": "f14f92d1",
   "metadata": {},
   "outputs": [
    {
     "data": {
      "text/plain": [
       "25"
      ]
     },
     "execution_count": 12,
     "metadata": {},
     "output_type": "execute_result"
    }
   ],
   "source": [
    "a"
   ]
  },
  {
   "cell_type": "markdown",
   "id": "a111f948",
   "metadata": {},
   "source": [
    "##Strings e indexação"
   ]
  },
  {
   "cell_type": "code",
   "execution_count": 13,
   "id": "697130b8",
   "metadata": {},
   "outputs": [],
   "source": [
    "minha_string = 'Hello'"
   ]
  },
  {
   "cell_type": "code",
   "execution_count": 14,
   "id": "4ff02329",
   "metadata": {},
   "outputs": [
    {
     "data": {
      "text/plain": [
       "'Hello'"
      ]
     },
     "execution_count": 14,
     "metadata": {},
     "output_type": "execute_result"
    }
   ],
   "source": [
    "minha_string"
   ]
  },
  {
   "cell_type": "code",
   "execution_count": 15,
   "id": "1dc821ba",
   "metadata": {},
   "outputs": [],
   "source": [
    "minha_string2 = 'Isto é uma string'"
   ]
  },
  {
   "cell_type": "code",
   "execution_count": 16,
   "id": "e93cf995",
   "metadata": {},
   "outputs": [
    {
     "data": {
      "text/plain": [
       "'Isto é uma string'"
      ]
     },
     "execution_count": 16,
     "metadata": {},
     "output_type": "execute_result"
    }
   ],
   "source": [
    "minha_string2"
   ]
  },
  {
   "cell_type": "code",
   "execution_count": 17,
   "id": "7a17f195",
   "metadata": {},
   "outputs": [],
   "source": [
    "minha_string3 = 'Isto é uma \"aspas\" string'"
   ]
  },
  {
   "cell_type": "code",
   "execution_count": 18,
   "id": "3debfa6a",
   "metadata": {},
   "outputs": [
    {
     "data": {
      "text/plain": [
       "'Isto é uma \"aspas\" string'"
      ]
     },
     "execution_count": 18,
     "metadata": {},
     "output_type": "execute_result"
    }
   ],
   "source": [
    "minha_string3"
   ]
  },
  {
   "cell_type": "code",
   "execution_count": null,
   "id": "591a5693",
   "metadata": {},
   "outputs": [
    {
     "name": "stdout",
     "output_type": "stream",
     "text": [
      "Isto é uma \"aspas\" string\n"
     ]
    }
   ],
   "source": [
    "#Mostra o que existe na variável\n",
    "print(minha_string3)"
   ]
  },
  {
   "cell_type": "code",
   "execution_count": null,
   "id": "0ac727e7",
   "metadata": {},
   "outputs": [
    {
     "data": {
      "text/plain": [
       "17"
      ]
     },
     "execution_count": 20,
     "metadata": {},
     "output_type": "execute_result"
    }
   ],
   "source": [
    "#Contagem de caracteres\n",
    "len(minha_string2)"
   ]
  },
  {
   "cell_type": "code",
   "execution_count": null,
   "id": "b53b289e",
   "metadata": {},
   "outputs": [],
   "source": []
  }
 ],
 "metadata": {
  "kernelspec": {
   "display_name": "Python 3",
   "language": "python",
   "name": "python3"
  },
  "language_info": {
   "codemirror_mode": {
    "name": "ipython",
    "version": 3
   },
   "file_extension": ".py",
   "mimetype": "text/x-python",
   "name": "python",
   "nbconvert_exporter": "python",
   "pygments_lexer": "ipython3",
   "version": "3.10.12"
  }
 },
 "nbformat": 4,
 "nbformat_minor": 5
}
