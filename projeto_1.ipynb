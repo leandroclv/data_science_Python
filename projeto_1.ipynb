{
 "cells": [
  {
   "cell_type": "code",
   "execution_count": null,
   "id": "334df3dc",
   "metadata": {},
   "outputs": [
    {
     "name": "stdout",
     "output_type": "stream",
     "text": [
      "Essa escolha não existe\n",
      "Essa escolha não existe\n",
      "Esta opção não existe\n",
      "2.0 + 6.0 = 8.0\n",
      "Obrigado por usar a nossa calculadora\n"
     ]
    }
   ],
   "source": [
    "#Calculadora\n",
    "\n",
    "while True:\n",
    "    opcao = input('0: Soma\\n1: Subtração\\n2: Multiplicação\\n3: Divisão\\n4: Exponenciação\\nEscolha a operação que deseja realizar: ')\n",
    "\n",
    "    if opcao in ('0', '1', '2', '3', '4'):\n",
    "        numb1 = float(input('Digite um número: '))\n",
    "        numb2 = float(input('Digite outro número: '))\n",
    "        if opcao == '0':\n",
    "            resultado = numb1 + numb2\n",
    "            print(f'{numb1} + {numb2} = {resultado}')\n",
    "        elif opcao == '1':\n",
    "            resultado = numb1 - numb2\n",
    "            print(f'{numb1} - {numb2} = {resultado}')\n",
    "        elif opcao == '2':\n",
    "            resultado = numb1 * numb2\n",
    "            print(f'{numb1} x {numb2} = {resultado}')\n",
    "        elif opcao == '3':\n",
    "            resultado = numb1 / numb2\n",
    "            print(f'{numb1} / {numb2} = {resultado}')\n",
    "        elif opcao == '4':\n",
    "            resultado = numb1 ** numb2\n",
    "            print(f'{numb1} elevado a {numb2} = {resultado}')\n",
    "    else:\n",
    "        print('Essa escolha não existe')\n",
    "    \n",
    "    sair = input('Deseja fazer outra operação? (s/n)').lower()\n",
    "    if sair in ('s', 'n'):\n",
    "        if sair == 'n':\n",
    "            break\n",
    "        else:\n",
    "            continue\n",
    "    else:\n",
    "        print('Esta opção não existe')\n",
    "        continue\n",
    "print('Obrigado por usar a nossa calculadora')"
   ]
  },
  {
   "cell_type": "markdown",
   "id": "d9ff6544",
   "metadata": {},
   "source": []
  },
  {
   "cell_type": "code",
   "execution_count": null,
   "id": "cb27548d",
   "metadata": {},
   "outputs": [],
   "source": []
  }
 ],
 "metadata": {
  "kernelspec": {
   "display_name": "base",
   "language": "python",
   "name": "python3"
  },
  "language_info": {
   "codemirror_mode": {
    "name": "ipython",
    "version": 3
   },
   "file_extension": ".py",
   "mimetype": "text/x-python",
   "name": "python",
   "nbconvert_exporter": "python",
   "pygments_lexer": "ipython3",
   "version": "3.6.5"
  }
 },
 "nbformat": 4,
 "nbformat_minor": 5
}
